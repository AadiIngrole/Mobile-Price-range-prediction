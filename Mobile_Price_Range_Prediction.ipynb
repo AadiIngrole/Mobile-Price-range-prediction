{
  "cells": [
    {
      "cell_type": "markdown",
      "metadata": {
        "id": "view-in-github",
        "colab_type": "text"
      },
      "source": [
        "<a href=\"https://colab.research.google.com/github/AadiIngrole/Mobile-Price-range-prediction/blob/main/Mobile_Price_Range_Prediction.ipynb\" target=\"_parent\"><img src=\"https://colab.research.google.com/assets/colab-badge.svg\" alt=\"Open In Colab\"/></a>"
      ]
    },
    {
      "cell_type": "markdown",
      "metadata": {
        "id": "khTBZyB6I9zJ"
      },
      "source": [
        "### **Problem Statement:**\n",
        "**In the competitive mobile phone market companies want\n",
        "to understand sales data of mobile phones and factors which drive the prices.\n",
        "The objective is to find out some relation between features of a mobile phone(eg:- RAM,\n",
        "Internal Memory, etc) and its selling price. In this problem, we do not have to predict the\n",
        "actual price but a price range indicating how high the price is.**\n",
        "### **Data Description -**\n",
        "* **Battery_power** - Total energy a battery can store in one time measured in mAh\n",
        "* **Blue** - Has bluetooth or not\n",
        "* ***Clock_speed*** - speed at which microprocessor executes instructions\n",
        "* ***Dual_sim*** - Has dual sim support or not\n",
        "* ***Fc*** - Front Camera mega pixels\n",
        "* ***Four_g*** - Has 4G or not\n",
        "* ***Int_memory*** - Internal Memory in Gigabytes\n",
        "* ***M_dep*** - Mobile Depth in cm\n",
        "* ***Mobile_wt*** - Weight of mobile phone\n",
        "* ***N_cores*** - Number of cores of processor\n",
        "* ***Pc*** - Primary Camera mega pixels\n",
        "* ***Px_height*** - Pixel Resolution Height\n",
        "* ***Px_width*** - Pixel Resolution Width\n",
        "* ***Ram*** - Random Access Memory in Mega Bytes\n",
        "* ***Sc_h*** - Screen Height of mobile in cm\n",
        "* ***Sc_w*** - Screen Width of mobile in cm\n",
        "* ***Talk_time*** - longest time that a single battery charge will last when you are\n",
        "* ***Three_g*** - Has 3G or not\n",
        "* ***Touch_screen*** - Has touch screen or not\n",
        "* ***Wifi*** - Has wifi or not\n",
        "* ***Price_range*** - This is the target variable with value of \n",
        "* 0(low cost), \n",
        "* 1(medium cost),\n",
        "* 2(high cost) and\n",
        "* 3(very high cost).\n",
        "* Thus our target variable has 4 categories so basically it is a Multiclass classification problem."
      ]
    },
    {
      "cell_type": "code",
      "execution_count": null,
      "metadata": {
        "id": "HKT7et6rK1QX"
      },
      "outputs": [],
      "source": [
        "# importing important libraries\n",
        "import pandas as pd\n",
        "import numpy as np\n",
        "import matplotlib.pyplot as plt\n",
        "import seaborn as sns\n",
        "%matplotlib inline\n",
        "\n",
        "# setting max display column limit to 30\n",
        "pd.set_option(\"display.max_columns\", 30)\n",
        "\n",
        "#set style\n",
        "# plt.style.use('seaborn')\n",
        "sns.set()\n",
        "\n",
        "\n",
        "# setting font weight,label weight,title weight to bold and setting title size,label size,fontsize.\n",
        "plt.rcParams[\"font.weight\"] = \"bold\"\n",
        "plt.rcParams[\"axes.labelweight\"] = \"bold\"\n",
        "plt.rcParams[\"axes.titlesize\"] = 25\n",
        "plt.rcParams[\"axes.titleweight\"] = 'bold'\n",
        "plt.rcParams['xtick.labelsize']=15\n",
        "plt.rcParams['ytick.labelsize']=15\n",
        "plt.rcParams[\"axes.labelsize\"] = 20\n",
        "plt.rcParams[\"legend.fontsize\"] = 15\n",
        "plt.rcParams[\"legend.title_fontsize\"] = 15\n",
        "\n",
        "import warnings\n",
        "warnings.filterwarnings('ignore')"
      ]
    },
    {
      "cell_type": "code",
      "execution_count": null,
      "metadata": {
        "id": "gJAUXKCEMlWy"
      },
      "outputs": [],
      "source": [
        " # Mounting drive\n",
        "from google.colab import drive\n",
        "drive.mount('/content/drive')"
      ]
    },
    {
      "cell_type": "code",
      "execution_count": null,
      "metadata": {
        "id": "Gq4JbJnaMq7B"
      },
      "outputs": [],
      "source": [
        "# CSV file loaction path\n",
        "file_path= '/content/drive/MyDrive/Capstone project (Mobile Price Range Predoction)/data_mobile_price_range.csv'\n"
      ]
    },
    {
      "cell_type": "code",
      "execution_count": null,
      "metadata": {
        "id": "KDeW4l-gM8Il"
      },
      "outputs": [],
      "source": [
        "# importing csv file into Pandas dataframe.\n",
        "mobile_data=pd.read_csv(file_path)"
      ]
    },
    {
      "cell_type": "code",
      "execution_count": null,
      "metadata": {
        "id": "17pSxhLxNCy9"
      },
      "outputs": [],
      "source": [
        "# first 5 rows\n",
        "mobile_data.head()"
      ]
    },
    {
      "cell_type": "code",
      "execution_count": null,
      "metadata": {
        "id": "t71D3JG9owzq"
      },
      "outputs": [],
      "source": [
        "# Last 5 Rows of the data\n",
        "\n",
        "mobile_data.tail()"
      ]
    },
    {
      "cell_type": "code",
      "execution_count": null,
      "metadata": {
        "id": "R6tQlga20ncY"
      },
      "outputs": [],
      "source": [
        "# lets Check the shape of data\n",
        "print(mobile_data.shape)\n",
        "print(f'Total Rows = {mobile_data.shape[0]}\\nTotol Columns={mobile_data.shape[1]} ')"
      ]
    },
    {
      "cell_type": "code",
      "execution_count": null,
      "metadata": {
        "id": "mrcedrmmo4cY"
      },
      "outputs": [],
      "source": [
        "# Checking Statistic of the data\n",
        "mobile_data.describe().T"
      ]
    },
    {
      "cell_type": "markdown",
      "metadata": {
        "id": "X6G0v9bW1a1Y"
      },
      "source": [
        "Some Basic Observations:\n",
        "* We can see that sc_width and px_height has minimum value 0. which is not possible in any mobile. We need to handle this mismatch."
      ]
    },
    {
      "cell_type": "code",
      "execution_count": null,
      "metadata": {
        "id": "5HnqFER5t8Fg"
      },
      "outputs": [],
      "source": [
        "# Checking How many observations having screen width value as 0.\n",
        "print(mobile_data[mobile_data['sc_w']==0].shape[0])"
      ]
    },
    {
      "cell_type": "code",
      "execution_count": null,
      "metadata": {
        "id": "xMqx2MG7036n"
      },
      "outputs": [],
      "source": [
        "# Checking How many observations having px_hieght value as 0.\n",
        "print(mobile_data[mobile_data['px_height']==0].shape[0])"
      ]
    },
    {
      "cell_type": "code",
      "execution_count": null,
      "metadata": {
        "id": "o5UI-KS83AEN"
      },
      "outputs": [],
      "source": [
        "# As there are only 2 observations having px_height=0. so we will drop it.\n",
        "mobile_data=mobile_data[mobile_data['px_height']!=0]"
      ]
    },
    {
      "cell_type": "markdown",
      "metadata": {
        "id": "SI26__qA5dLj"
      },
      "source": [
        "## Nearest Neighbors Imputations (KNNImputer)\n",
        "\n",
        "Missing values are imputed using the k-Nearest Neighbors approach where a Euclidean distance is used to find the nearest neighbors.\n",
        "\n",
        "Let’s take the above example of the titanic dataset to see how it works.\n",
        "* Before using KNN Imputer we need to replace 0 with NAN values. so that it will work."
      ]
    },
    {
      "cell_type": "code",
      "execution_count": null,
      "metadata": {
        "id": "8n0P5gIy7Uuz"
      },
      "outputs": [],
      "source": [
        "# Replacing 0 with NAN so that we can implement KNN Imputer.\n",
        "mobile_data['sc_w']=mobile_data['sc_w'].replace(0,np.nan)"
      ]
    },
    {
      "cell_type": "code",
      "execution_count": null,
      "metadata": {
        "id": "VRiEagcO5cAM"
      },
      "outputs": [],
      "source": [
        "# import KNN imputer frio sklearn\n",
        "from sklearn.impute import KNNImputer\n",
        "impute_knn = KNNImputer(n_neighbors=1)\n",
        "mobile_data=pd.DataFrame(impute_knn.fit_transform(mobile_data),columns=mobile_data.columns)"
      ]
    },
    {
      "cell_type": "code",
      "execution_count": null,
      "metadata": {
        "id": "48nQ57cR6FfE"
      },
      "outputs": [],
      "source": [
        "# Checking shape\n",
        "mobile_data.shape"
      ]
    },
    {
      "cell_type": "code",
      "execution_count": null,
      "metadata": {
        "id": "C-12wogdzNrs"
      },
      "outputs": [],
      "source": [
        "# Checking How many observations having sc_w value as 0.\n",
        "mobile_data[mobile_data['sc_w']==0].shape[0]"
      ]
    },
    {
      "cell_type": "markdown",
      "metadata": {
        "id": "TqyBoNMC9iat"
      },
      "source": [
        "**Thus we have handled the mismatched values of the data.**"
      ]
    },
    {
      "cell_type": "code",
      "execution_count": null,
      "metadata": {
        "id": "MJV9DsE4pF5C"
      },
      "outputs": [],
      "source": [
        "# Checking the datatypes, non null values\n",
        "mobile_data.info()"
      ]
    },
    {
      "cell_type": "markdown",
      "metadata": {
        "id": "CALMg4MG4dF9"
      },
      "source": [
        "* **We don't have any object data type in our data set.**\n",
        "* **Also we have Zero null values in data set.**\n",
        "* **Price_range is our target variable.**"
      ]
    },
    {
      "cell_type": "code",
      "execution_count": null,
      "metadata": {
        "id": "xPhrlsQA4cQF"
      },
      "outputs": [],
      "source": [
        "# Checking Null values.\n",
        "mobile_data.isna().sum()"
      ]
    },
    {
      "cell_type": "code",
      "execution_count": null,
      "metadata": {
        "id": "n4O5pcJr-gIH"
      },
      "outputs": [],
      "source": [
        "# Visulaizing null values using heatmap.\n",
        "plt.figure(figsize=(15,5))\n",
        "sns.heatmap(mobile_data.isnull(),cmap='plasma',annot=False,yticklabels=False)\n",
        "plt.title(\" Visualising Missing Values\")"
      ]
    },
    {
      "cell_type": "markdown",
      "metadata": {
        "id": "G_wt6TLi4y-w"
      },
      "source": [
        "**No Null values found. Which is good thing for us.**\n",
        "\n",
        "\n",
        "\n",
        "\n",
        "![nullsnotthere.png](data:image/png;base64,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)"
      ]
    },
    {
      "cell_type": "code",
      "execution_count": null,
      "metadata": {
        "id": "Kpv41igm4U-G"
      },
      "outputs": [],
      "source": [
        "# Checking Duplicate values in data set.\n",
        "print(f' We have {mobile_data.duplicated().sum()} duplicate values in dataset.')"
      ]
    },
    {
      "cell_type": "markdown",
      "metadata": {
        "id": "HxRr1z8M-mAe"
      },
      "source": [
        "# **EDA( Exploratory Data Analysis)**"
      ]
    },
    {
      "cell_type": "markdown",
      "metadata": {
        "id": "j53LYLSD-qYF"
      },
      "source": [
        "### **Let's have look at target variable first.!**"
      ]
    },
    {
      "cell_type": "code",
      "execution_count": null,
      "metadata": {
        "id": "GJ4bMoTq4-SB"
      },
      "outputs": [],
      "source": [
        "# lets have look at our target variable's counts\n",
        "price_range_values=mobile_data['price_range'].value_counts()\n",
        "price_range_values"
      ]
    },
    {
      "cell_type": "markdown",
      "metadata": {
        "id": "-Ck8b19H-50s"
      },
      "source": [
        "***Wow.!  we have almost equal number of obseravtions for each category. Thus we don't have imbalanced target variable.Accuracy score will be the best evalaution metric for us to select the model.***\n",
        "\n",
        "***This is the target variable with value of***\n",
        "* ***0=low cost,***\n",
        "* ***1=medium cost,***\n",
        "* ***2=high cost,***\n",
        "* ***3=very high cost.***"
      ]
    },
    {
      "cell_type": "code",
      "execution_count": null,
      "metadata": {
        "id": "dnk2RVDq-y5h"
      },
      "outputs": [],
      "source": [
        "# Visualizing the Target variable's class distribution.\n",
        "labels = [\"low cost\", \"medium cost\", \"high cost\", \"very high cost\"]\n",
        "price_range_values.plot.pie(explode=[0.05]*4,labels=labels,autopct='%1.1f%%',figsize=(12,8),fontsize=15)    # plotting pie chart\n"
      ]
    },
    {
      "cell_type": "markdown",
      "metadata": {
        "id": "GVaV-A79BMdT"
      },
      "source": [
        "* **We can see that our target varibale is equally distributed.** \n",
        "* **Thus we don't have to worry about data imbalance and there is no need of oversampling or undersampling.Which is good for us.**"
      ]
    },
    {
      "cell_type": "markdown",
      "metadata": {
        "id": "glYG-24aCCbR"
      },
      "source": [
        "## **Correlation of target varaible i.e Dependent variable with the other independent variable.**"
      ]
    },
    {
      "cell_type": "code",
      "execution_count": null,
      "metadata": {
        "id": "Nj_lPaaN_gwt"
      },
      "outputs": [],
      "source": [
        "corr= mobile_data.corr()\n",
        "plt.figure(figsize=(20,10))\n",
        "sns.heatmap(corr,annot=True, cmap=plt.cm.Accent_r)"
      ]
    },
    {
      "cell_type": "markdown",
      "metadata": {
        "id": "t_uWdK3nvvGm"
      },
      "source": [
        "### **Observations:**\n",
        "* ***RAM has strong positive correlation with the Price_range. and we know that Mobiles with high RAM are very costly. Thus RAM increases price range also increase.***\n",
        "* ***Battery_power also has positive correlation with the price range.Generally mobiles having high prices comes with good battery power.***\n",
        "* ***Also px_height and px_width (Pixel Resolution Height and width) are positively correlated. Generally High price range mobiles have good resolutions.***\n",
        "\n",
        "* ***Four_g and Three_g are highly positvely correlated. Nowdays most of the smart mobiles has both type of options. This could be the reason that they are correlated.***\n",
        "\n",
        "* ***primary camera i.e pc and front camera fc are positively correlated.***\n",
        "* ***sc_h and sc_w are positively correlated.***"
      ]
    },
    {
      "cell_type": "code",
      "execution_count": null,
      "metadata": {
        "id": "3aW6ERB-hgMg"
      },
      "outputs": [],
      "source": [
        "mobile_data.columns\n"
      ]
    },
    {
      "cell_type": "markdown",
      "metadata": {
        "id": "emwqPjm4spwO"
      },
      "source": [
        "# **Univariate Analysis of Categorical columns.**"
      ]
    },
    {
      "cell_type": "code",
      "execution_count": null,
      "metadata": {
        "id": "CQlEG-vLWJej"
      },
      "outputs": [],
      "source": [
        "# Plotting the piecharts for binary categorical variables.\n",
        "plt.figure(figsize=(15,10))\n",
        "\n",
        "rows=3\n",
        "col=3\n",
        "count=1\n",
        "var_list=['blue','dual_sim','four_g','three_g','wifi','touch_screen']\n",
        "labels=['Yes','No']\n",
        "for var in var_list:\n",
        "  plt.subplot(rows,col,count)\n",
        "  mobile_data[var].value_counts().plot.pie(autopct='%1.1f%%',fontsize=12,labels=labels)\n",
        "  plt.title(f'has {var} or not',fontsize=14)\n",
        "  plt.tight_layout()\n",
        "  count=count+1\n",
        "  "
      ]
    },
    {
      "cell_type": "markdown",
      "metadata": {
        "id": "LW_0dX96nC02"
      },
      "source": [
        "* ***1 means it has the specifications.***\n",
        "* ***0 means it do not have the specifications.***\n",
        "* ***Percentage Distribution of Mobiles having bluetooth,dual sim, 4G,wifi and touchscreen are almost 50 %.***\n",
        "* ***very few mobiles(23.8%) do not have Three_g.***\n"
      ]
    },
    {
      "cell_type": "markdown",
      "metadata": {
        "id": "WeUBcjNqzJVJ"
      },
      "source": [
        "## **Relation Between RAM,Battery_power,px_height and px_width**"
      ]
    },
    {
      "cell_type": "code",
      "execution_count": null,
      "metadata": {
        "id": "Qx0rtQeSCyuM"
      },
      "outputs": [],
      "source": [
        "# plotting  price_range vs other fearures\n",
        "plt.figure(figsize=(20,10))\n",
        "\n",
        "labels=['0=low_cost','1=medium_cost','2=high_cost','3=very_high_cost']\n",
        "\n",
        "rows=2   \n",
        "cols=2\n",
        "counter=1\n",
        "\n",
        "variables=['ram','battery_power','px_height','px_width']\n",
        "\n",
        "for var in variables:\n",
        "  plt.subplot(rows,cols,counter)\n",
        "  sns.barplot(x=mobile_data['price_range'],y=mobile_data[var])\n",
        "  plt.title(f'Price range v/s {var}')\n",
        "  counter=counter+1\n",
        "  plt.tight_layout()\n",
        "\n",
        "\n"
      ]
    },
    {
      "cell_type": "markdown",
      "metadata": {
        "id": "jXKDCf6Y4Sx2"
      },
      "source": [
        "### **Observations:**\n",
        "* ***Mobiles having RAM more than 3000MB falls under Very high cost category.As RAM increases price range also increases.***\n",
        "* ***Mobiles having RAM less than 1000 MB falls under low cost category.***\n",
        "* ***Mobiles with battery power more than 1300 mAh has very high cost. And Mobiles with battery power between 1200 and 1300 mAH falls under medium and high cost category.***\n",
        "* ***Mobiles with more than 700 pixel height and width more than 1300 has very high cost.***"
      ]
    },
    {
      "cell_type": "code",
      "execution_count": null,
      "metadata": {
        "id": "oWZ3a0Utc0-m"
      },
      "outputs": [],
      "source": [
        "# Checking the counts of binary categorical variables by grouping price range.\n",
        "grup_by_price=mobile_data.groupby(['price_range']).agg({'blue':'value_counts','dual_sim':'value_counts','four_g':'value_counts','three_g':'value_counts','touch_screen':'value_counts','wifi':'value_counts'}).unstack()"
      ]
    },
    {
      "cell_type": "code",
      "execution_count": null,
      "metadata": {
        "id": "Xf8PZXx4jMMI"
      },
      "outputs": [],
      "source": [
        "# visualising by plotting barchat.\n",
        "# plt.figure(figsize=(12,6))\n",
        "grup_by_price.plot.bar(figsize=(25,15))\n",
        "plt.title('Count of phones in each price range with supported or not supported mobile specifications.')\n",
        "plt.xlabel('Price range')\n",
        "plt.ylabel('Count of phones')\n",
        "plt.legend(loc='upper center')"
      ]
    },
    {
      "cell_type": "markdown",
      "metadata": {
        "id": "oq-nNmbalmZ2"
      },
      "source": [
        "### **Observations**\n",
        " \n",
        "***We can see that each price range category has equal number of mobiles phones having both supporting and non supporting specifications.***"
      ]
    },
    {
      "cell_type": "code",
      "execution_count": null,
      "metadata": {
        "id": "8yvD2wd9kfkK"
      },
      "outputs": [],
      "source": [
        "list_2=['n_cores','m_dep']\n",
        "for item in list_2:\n",
        "  \n",
        "  mobile_data.groupby(['price_range'])[item].value_counts().unstack().plot.bar(figsize=(15,6))\n",
        "  plt.title(f'Price range grouped by {item}')\n",
        "  plt.ylabel('No. of phones')"
      ]
    },
    {
      "cell_type": "markdown",
      "metadata": {
        "id": "mtdwEcT4lV8j"
      },
      "source": [
        "### **Observation** \n",
        "* ***There are very few mobiles in price range 0 and 1 with lesser no of cores.***\n",
        "* ***Most of the mobiles in price range 2 and 3 are with high no of cores.***\n",
        "\n",
        "* ***Number of phones with less thickness is high and count of phones with high thickness is low.***"
      ]
    },
    {
      "cell_type": "markdown",
      "metadata": {
        "id": "USge7fkDnHEq"
      },
      "source": [
        "#**Let's Check which numerical feature is driving the price range most.**"
      ]
    },
    {
      "cell_type": "code",
      "execution_count": null,
      "metadata": {
        "id": "Vn943qPUndca"
      },
      "outputs": [],
      "source": [
        "mobile_data.columns"
      ]
    },
    {
      "cell_type": "code",
      "execution_count": null,
      "metadata": {
        "id": "O0I_9mEJnbP9"
      },
      "outputs": [],
      "source": [
        "list_1=['battery_power','clock_speed','fc','int_memory','m_dep','mobile_wt','n_cores','pc','px_height','px_width','sc_h','ram','sc_w','talk_time']\n",
        "# plotting boXplot and distribution\n",
        "counter=1\n",
        "for var in list_1:\n",
        "    plt.figure(figsize=(10,6))\n",
        "    \n",
        "    sns.lineplot(x=mobile_data['price_range'],y=mobile_data[var])\n"
      ]
    },
    {
      "cell_type": "markdown",
      "metadata": {
        "id": "CtK4LugOgCRR"
      },
      "source": [
        "### **Observations**\n",
        "* ***For class 1 and class2 battery power range is almost similar. As battery power increases price also increases whcih is quite obivious.***\n",
        "* ***Mobiles in very high price range(Class 3) has less weight compared to other classes.That means as weight of mobiles decrease price increases.***\n",
        "* ***Mobiles having max screen  height and width falls in very high price category. We can see in linechart of sc_width and sc_height from class 2 screen width and hieght starts increasing with price. Similar case is with px_height and px_width. As resolution of screen increases the price also increases***\n",
        "***RAM has clear relationship with price range we saw that in correlation matrix also.***"
      ]
    },
    {
      "cell_type": "markdown",
      "metadata": {
        "id": "tfuD7mKGCm5l"
      },
      "source": [
        "# Mobiles with both 3G and 4G."
      ]
    },
    {
      "cell_type": "code",
      "execution_count": null,
      "metadata": {
        "id": "N8dnm5XU3HqB"
      },
      "outputs": [],
      "source": [
        "# Mobiles have both 3G and 4G specifications.\n",
        "three_g_and_4g_df=mobile_data[(mobile_data['three_g']==1) & (mobile_data['four_g']==1)]"
      ]
    },
    {
      "cell_type": "code",
      "execution_count": null,
      "metadata": {
        "id": "YBzz-tWlBfeJ"
      },
      "outputs": [],
      "source": [
        "three_g_and_4g_df['price_range'].value_counts()"
      ]
    },
    {
      "cell_type": "code",
      "execution_count": null,
      "metadata": {
        "id": "EU4877fuA6AO"
      },
      "outputs": [],
      "source": [
        "plt.figure(figsize=(10,5))\n",
        "sns.countplot(three_g_and_4g_df['price_range'])\n",
        "plt.xticks(ticks=[0,1,2,3],labels=['Low cost','medium cost','high cost','very high cost'])\n",
        "plt.title(\"Mobiles with 3G and 4G features \")\n",
        "plt.show()"
      ]
    },
    {
      "cell_type": "markdown",
      "metadata": {
        "id": "Uynipn-fCFyK"
      },
      "source": [
        "* As we can see from low cost to very high cost mobiles have both features."
      ]
    },
    {
      "cell_type": "markdown",
      "metadata": {
        "id": "J5q-P5DVCxUT"
      },
      "source": [
        "#mobiles with 3G"
      ]
    },
    {
      "cell_type": "code",
      "execution_count": null,
      "metadata": {
        "id": "DhlrxPDtBFKE"
      },
      "outputs": [],
      "source": [
        "three_g_df=mobile_data[(mobile_data['three_g']==1) & (mobile_data['four_g']!=1)]"
      ]
    },
    {
      "cell_type": "code",
      "execution_count": null,
      "metadata": {
        "id": "CWYSJmp3CQOX"
      },
      "outputs": [],
      "source": [
        "three_g_df"
      ]
    },
    {
      "cell_type": "code",
      "execution_count": null,
      "metadata": {
        "id": "_gTWBS5NDY-Z"
      },
      "outputs": [],
      "source": [
        "plt.figure(figsize=(10,5))\n",
        "sns.countplot(three_g_df['price_range'])\n",
        "plt.xticks(ticks=[0,1,2,3],labels=['Low cost','medium cost','high cost','very high cost'])\n",
        "plt.title(\"Mobiles with only 3G  features \")\n",
        "plt.show()"
      ]
    },
    {
      "cell_type": "markdown",
      "metadata": {
        "id": "-68v2fMrmksK"
      },
      "source": [
        "Observations:\n",
        "* Mobiles which has very high cost are very less likely to have 3G.\n",
        "* There are more chances that high cost mobile will have 3G in it."
      ]
    },
    {
      "cell_type": "markdown",
      "metadata": {
        "id": "yxwuLlycDjdd"
      },
      "source": [
        "#Mobiles not having no 3G and 4G. "
      ]
    },
    {
      "cell_type": "code",
      "execution_count": null,
      "metadata": {
        "id": "_fl4jcaGCSc7"
      },
      "outputs": [],
      "source": [
        "No_3g_4G_df=mobile_data[(mobile_data['three_g']!=1) & (mobile_data['four_g']!=1)]"
      ]
    },
    {
      "cell_type": "code",
      "execution_count": null,
      "metadata": {
        "id": "U5_OCuKFCehn"
      },
      "outputs": [],
      "source": [
        "No_3g_4G_df"
      ]
    },
    {
      "cell_type": "code",
      "execution_count": null,
      "metadata": {
        "id": "u1d0jyOsCf15"
      },
      "outputs": [],
      "source": [
        "plt.figure(figsize=(10,5))\n",
        "sns.countplot(No_3g_4G_df['price_range'])\n",
        "plt.xticks(ticks=[0,1,2,3],labels=['Low cost','medium cost','high cost','very high cost'])\n",
        "plt.title(\"Mobiles not having 3G and 4G features \")\n",
        "plt.show()"
      ]
    },
    {
      "cell_type": "markdown",
      "metadata": {
        "id": "emIEYAupodCh"
      },
      "source": [
        "* Its very obvious that low cost mobiles will not have 3G and 4G.\n",
        "* Mobiles with very high cost may have 5G. As we know technologies are changes everytime."
      ]
    },
    {
      "cell_type": "code",
      "execution_count": null,
      "metadata": {
        "id": "gsu1ulznDzE3"
      },
      "outputs": [],
      "source": [
        "# n_cores v/s price range\n",
        "plt.figure(figsize=(30,10))\n",
        "sns.countplot(mobile_data['price_range'],hue=mobile_data['n_cores'])\n",
        "plt.title(\"n_cores v/s Price range\")\n",
        "plt.legend(loc='best')\n"
      ]
    },
    {
      "cell_type": "markdown",
      "metadata": {
        "id": "4XDbR_pArRcr"
      },
      "source": [
        "Observations:\n",
        "* Price range 0 has majority of phones with 2 core processors\n",
        "* Price range 1 has majority of phones with 1 and 4 core processors\n",
        "* Price range 2 has majority of phones with 4 core processors\n",
        "* Price range 3 has majority of phones with 5 and 7 core processors"
      ]
    },
    {
      "cell_type": "code",
      "execution_count": null,
      "metadata": {
        "id": "RSDTcQ2SpZhb"
      },
      "outputs": [],
      "source": [
        "\n",
        "plt.figure(figsize=(10, 5))\n",
        "sns.countplot(mobile_data['price_range'],hue=mobile_data['four_g'])\n",
        "plt.title(\"Mobiles with 4G features \")\n",
        "plt.legend(loc='best')"
      ]
    },
    {
      "cell_type": "markdown",
      "metadata": {
        "id": "nPVwAL7wuqfg"
      },
      "source": [
        "Majority of phones of only price range 2 dont have 4G service."
      ]
    },
    {
      "cell_type": "code",
      "execution_count": null,
      "metadata": {
        "id": "CDcFoE5Xt55d"
      },
      "outputs": [],
      "source": [
        "plt.figure(figsize=(10, 5))\n",
        "sns.countplot(mobile_data['price_range'],hue=mobile_data['blue'])\n",
        "plt.title(\"Mobiles with bluetooth features \")\n",
        "plt.legend(loc='best')\n"
      ]
    },
    {
      "cell_type": "markdown",
      "metadata": {
        "id": "AEfNMdMLvgUx"
      },
      "source": [
        "Majority of phones of price range from 0 to 2 dont have bluetooth on other hand price range of 3 have bluetooth service."
      ]
    },
    {
      "cell_type": "markdown",
      "metadata": {
        "id": "R3LiHlYVu740"
      },
      "source": [
        "# Let's Check the distribution of numerical columns and Outliers."
      ]
    },
    {
      "cell_type": "code",
      "execution_count": null,
      "metadata": {
        "id": "hHGPJQ7fvFtA"
      },
      "outputs": [],
      "source": [
        "mobile_data.columns"
      ]
    },
    {
      "cell_type": "code",
      "execution_count": null,
      "metadata": {
        "id": "-g4fCWKXyzpz"
      },
      "outputs": [],
      "source": [
        "# numeric col list\n",
        "numeric_col=['battery_power','clock_speed','fc','int_memory','m_dep','mobile_wt','n_cores','pc','px_height',\n",
        "             'px_width', 'ram', 'sc_h', 'sc_w', 'talk_time',]"
      ]
    },
    {
      "cell_type": "code",
      "execution_count": null,
      "metadata": {
        "id": "978YgqUECS6P"
      },
      "outputs": [],
      "source": [
        "# plotting boXplot and distribution\n",
        "for var in numeric_col:\n",
        "    plt.figure(figsize=(15,6))\n",
        "    plt.subplot(1, 2, 1)\n",
        "    fig = sns.boxplot(y=mobile_data[var],color='red')\n",
        "    fig.set_title('')\n",
        "    fig.set_ylabel(var)\n",
        "    \n",
        "    plt.subplot(1, 2, 2)\n",
        "    fig = sns.distplot(mobile_data[var],color='red')\n",
        "    \n",
        "    fig.set_xlabel(var)\n",
        "\n",
        "    plt.show()"
      ]
    },
    {
      "cell_type": "markdown",
      "metadata": {
        "id": "do3OUSJKDGTe"
      },
      "source": [
        "* Data is well distrubted.\n",
        "* fc and px_height has some outliers."
      ]
    },
    {
      "cell_type": "markdown",
      "metadata": {
        "id": "kEFHaIrNv2Js"
      },
      "source": [
        "# Outlier Treatment."
      ]
    },
    {
      "cell_type": "code",
      "execution_count": null,
      "metadata": {
        "id": "cTbzUUcOO9GD"
      },
      "outputs": [],
      "source": [
        "Q1 = mobile_data[\"fc\"].quantile(0.25)\n",
        "Q3 = mobile_data['fc'].quantile(0.991)\n",
        "IQR = Q3-Q1\n",
        "\n",
        "# Outliers are present after Quartile 3. so we will take datapoints before Q3.\n",
        "mobile_data = mobile_data[(mobile_data['fc'] <= Q3)]"
      ]
    },
    {
      "cell_type": "code",
      "execution_count": null,
      "metadata": {
        "id": "W4j6btHdEWn1"
      },
      "outputs": [],
      "source": [
        "\n",
        "Q1 = mobile_data[\"px_height\"].quantile(0.25)\n",
        "Q3 = mobile_data['px_height'].quantile(0.991)\n",
        "IQR = Q3-Q1\n",
        "# Outliers are present after Quartile 3. so we will take datapoints before Q3.\n",
        "mobile_data = mobile_data[(mobile_data['px_height'] <= Q3)]"
      ]
    },
    {
      "cell_type": "code",
      "execution_count": null,
      "metadata": {
        "id": "VmfgUt8jEdnr"
      },
      "outputs": [],
      "source": [
        "# Visualising whether oultliers are removed or not.\n",
        "for var in ['fc','px_height']:\n",
        "    plt.figure(figsize=(15,6))\n",
        "    plt.subplot(1, 2, 1)\n",
        "    fig = sns.boxplot(y=mobile_data[var],color='green')\n",
        "    fig.set_title('')\n",
        "    fig.set_ylabel(var)\n",
        "    \n",
        "    plt.subplot(1, 2, 2)\n",
        "    fig = sns.distplot(mobile_data[var],color='green')\n",
        "    \n",
        "    fig.set_xlabel(var)\n",
        "\n",
        "    plt.show()"
      ]
    },
    {
      "cell_type": "markdown",
      "metadata": {
        "id": "l0CCWC1Klm2k"
      },
      "source": [
        "Thus we can see in box plot no oultiers are present."
      ]
    },
    {
      "cell_type": "code",
      "execution_count": null,
      "metadata": {
        "id": "upFm2GtVvJ5G"
      },
      "outputs": [],
      "source": [
        "mobile_data.shape"
      ]
    },
    {
      "cell_type": "markdown",
      "metadata": {
        "id": "3z35Z8SK1L_9"
      },
      "source": [
        "#SO we have handled Outliers."
      ]
    },
    {
      "cell_type": "code",
      "execution_count": null,
      "metadata": {
        "id": "g4sEJZKjLqeO"
      },
      "outputs": [],
      "source": [
        "# create copy of mobile_data\n",
        "mobile_data_df=mobile_data.copy()"
      ]
    },
    {
      "cell_type": "markdown",
      "metadata": {
        "id": "fy1I365SPh8n"
      },
      "source": [
        "# Feature Selection"
      ]
    },
    {
      "cell_type": "code",
      "execution_count": null,
      "metadata": {
        "id": "F0PjLI0k2Cj1"
      },
      "outputs": [],
      "source": [
        "# checking newly created column.\n",
        "mobile_data.head()"
      ]
    },
    {
      "cell_type": "code",
      "execution_count": null,
      "metadata": {
        "id": "aqnYeJjVLoEJ"
      },
      "outputs": [],
      "source": [
        "# # create new colom screen size.\n",
        "# mobile_data['screen_size']= round(np.sqrt(mobile_data['sc_h']**2+mobile_data['sc_w']**2)/2.54,2)"
      ]
    },
    {
      "cell_type": "code",
      "execution_count": null,
      "metadata": {
        "id": "DkPRUsFZL2ZV"
      },
      "outputs": [],
      "source": [
        "# mobile_data['Pixels']=mobile_data['px_height']*mobile_data['px_width']"
      ]
    },
    {
      "cell_type": "code",
      "execution_count": null,
      "metadata": {
        "id": "7Sbw_dVwL7EA"
      },
      "outputs": [],
      "source": [
        "# mobile_data.drop(columns=[\"sc_h\",'sc_w','px_height','px_width'],axis=1,inplace=True)"
      ]
    },
    {
      "cell_type": "code",
      "execution_count": null,
      "metadata": {
        "id": "6rQtH-x76gaT"
      },
      "outputs": [],
      "source": [
        "corr= mobile_data.corr()\n",
        "plt.figure(figsize=(25,10))\n",
        "sns.heatmap(corr,annot=True, cmap=plt.cm.Accent_r)"
      ]
    },
    {
      "cell_type": "code",
      "execution_count": null,
      "metadata": {
        "id": "wS8m-xP4Qq3k"
      },
      "outputs": [],
      "source": [
        "# Separating X variables(indpendent variables) and Y(dependent variable) variable.\n",
        "X=mobile_data.drop('price_range',axis=1)\n",
        "y=mobile_data[\"price_range\"]"
      ]
    },
    {
      "cell_type": "code",
      "execution_count": null,
      "metadata": {
        "id": "EUiAOROQE49f"
      },
      "outputs": [],
      "source": [
        "# from sklearn.feature_selection import mutual_info_classif\n",
        "# # determine the mutual information\n",
        "# mutual_info = mutual_info_classif(X, y)\n",
        "# mutual_info"
      ]
    },
    {
      "cell_type": "code",
      "execution_count": null,
      "metadata": {
        "id": "k0kvpeItE-22"
      },
      "outputs": [],
      "source": [
        "# mutual_info = pd.Series(mutual_info)\n",
        "# mutual_info.index = X.columns\n",
        "# mutual_info.sort_values(ascending=False)"
      ]
    },
    {
      "cell_type": "code",
      "execution_count": null,
      "metadata": {
        "id": "_Cq6SYlUFD_C"
      },
      "outputs": [],
      "source": [
        "# #let's plot the ordered mutual_info values per feature\n",
        "# mutual_info.sort_values(ascending=False).plot.bar(figsize=(10 ,8))\n",
        "# plt.ylabel('Mutual Information values')\n",
        "# plt.xlabel('Features')\n",
        "# plt.title('mutual_info values per feature')"
      ]
    },
    {
      "cell_type": "code",
      "execution_count": null,
      "metadata": {
        "id": "OXjtGWngF85C"
      },
      "outputs": [],
      "source": [
        "from sklearn.feature_selection import SelectKBest\n",
        "from sklearn.feature_selection import chi2"
      ]
    },
    {
      "cell_type": "code",
      "execution_count": null,
      "metadata": {
        "id": "clvn380-F_-c"
      },
      "outputs": [],
      "source": [
        "#No we Will select the  top 12 important features\n",
        "bestfeatures = SelectKBest(score_func=chi2, k=12)\n",
        "fit = bestfeatures.fit(X,y)\n"
      ]
    },
    {
      "cell_type": "code",
      "execution_count": null,
      "metadata": {
        "id": "7e66DuPpiztf"
      },
      "outputs": [],
      "source": [
        "# creating score's and coolumn's dataframe\n",
        "dfscores = pd.DataFrame(fit.scores_)\n",
        "dfcolumns = pd.DataFrame(X.columns)"
      ]
    },
    {
      "cell_type": "code",
      "execution_count": null,
      "metadata": {
        "id": "fxWY6pIMi3Z6"
      },
      "outputs": [],
      "source": [
        "# conacatenating above two dataframes\n",
        "featureScores = pd.concat([dfcolumns,dfscores],axis=1)\n",
        "featureScores.columns = ['Specs','Score']"
      ]
    },
    {
      "cell_type": "code",
      "execution_count": null,
      "metadata": {
        "id": "hlGu3_xTi8NS"
      },
      "outputs": [],
      "source": [
        "# Check dataframe\n",
        "featureScores"
      ]
    },
    {
      "cell_type": "code",
      "execution_count": null,
      "metadata": {
        "id": "LCtsP5UhjTsi"
      },
      "outputs": [],
      "source": [
        "# 12 features with highest chi squared statistic \n",
        "print(featureScores.nlargest(12,'Score'))"
      ]
    },
    {
      "cell_type": "code",
      "execution_count": null,
      "metadata": {
        "id": "6CRV0lNjGGfw"
      },
      "outputs": [],
      "source": [
        "# 12 features with highest chi squared statistic are selected as independent variables.\n",
        "X=mobile_data[['ram','px_height','battery_power','px_width','mobile_wt','int_memory','sc_h','talk_time','sc_w','fc','n_cores','pc']]\n",
        "\n",
        "# dependent varaible\n",
        "y=mobile_data['price_range']\n"
      ]
    },
    {
      "cell_type": "markdown",
      "metadata": {
        "id": "0GpoVvJOHf5p"
      },
      "source": [
        "\n",
        "\n",
        "# Predictive Modeling:\n",
        "Algorithms used for predictive modeling:\n",
        "* 1) Decision Tree\n",
        "* 2) Random Forest classifier\n",
        "* 3) Gradient Boosting Classifier\n",
        "* 4) K-nearest Neighbour classifier\n",
        "* 5) XG Boost Classifier \n",
        "* 6) Support Vector Machine(SVM)\n"
      ]
    },
    {
      "cell_type": "markdown",
      "metadata": {
        "id": "0kE0QfI4mQCK"
      },
      "source": [
        "**As Decision tree,random forest and enssembles trees do not require Feature scaling as these are Tree based models. So we will be using X_train and X_test which are not scaled.**"
      ]
    },
    {
      "cell_type": "markdown",
      "metadata": {
        "id": "hD8TrIL1msRO"
      },
      "source": [
        "**For K nearest Neighbors and SVM  we will be usingseX_train_scaled and X_test_scaled. That is we we will use Standardised data. i.e. Scaled data.\n",
        "As these are distance based Algorithms.**"
      ]
    },
    {
      "cell_type": "code",
      "execution_count": null,
      "metadata": {
        "id": "RPvsRWuJ_12T"
      },
      "outputs": [],
      "source": [
        "# importing all essential libraries.\n",
        "from sklearn.model_selection import train_test_split\n",
        "from sklearn.preprocessing import StandardScaler,MinMaxScaler\n",
        "from sklearn.metrics import accuracy_score, classification_report, plot_confusion_matrix,confusion_matrix,roc_curve,roc_auc_score,auc\n",
        "from sklearn.tree import DecisionTreeClassifier\n",
        "from sklearn.ensemble import RandomForestClassifier\n",
        "from sklearn.ensemble import GradientBoostingClassifier\n",
        "from sklearn.neighbors import KNeighborsClassifier\n",
        "from sklearn.linear_model import LogisticRegression\n",
        "from sklearn.ensemble import AdaBoostClassifier\n",
        "from xgboost import XGBClassifier\n",
        "from sklearn.model_selection import GridSearchCV\n",
        "from sklearn.metrics import confusion_matrix\n",
        "\n"
      ]
    },
    {
      "cell_type": "code",
      "execution_count": null,
      "metadata": {
        "id": "zU9mZ8GaBEoc"
      },
      "outputs": [],
      "source": [
        "# splitting the data into Train and test data\n",
        "\n",
        "X_train, X_test, y_train, y_test = train_test_split(X, y, test_size=0.25, random_state=0)\n",
        "print(X_train.shape)\n",
        "print(X_test.shape)\n",
        "print(y_train.shape)\n",
        "print(y_test.shape)"
      ]
    },
    {
      "cell_type": "code",
      "execution_count": null,
      "metadata": {
        "id": "TP1SGvwtB2Ol"
      },
      "outputs": [],
      "source": [
        "\n",
        "# Scaling the data.\n",
        "# creating an object of MinMax Scaler\n",
        "scaler=StandardScaler()\n",
        "X_train_scaled=scaler.fit_transform(X_train)   # fitting the X_train\n",
        "X_test_scaled=scaler.transform(X_test)         # transforming X_test"
      ]
    },
    {
      "cell_type": "code",
      "execution_count": null,
      "metadata": {
        "id": "-290zqwpTR4r"
      },
      "outputs": [],
      "source": [
        "X_train_scaled"
      ]
    },
    {
      "cell_type": "code",
      "execution_count": null,
      "metadata": {
        "id": "zr0ETV9CTXlj"
      },
      "outputs": [],
      "source": [
        "X_test_scaled"
      ]
    },
    {
      "cell_type": "code",
      "execution_count": null,
      "metadata": {
        "id": "HnkWxZR3f_Iw"
      },
      "outputs": [],
      "source": [
        "# Defining a fucnction for plotting roc curve\n",
        "def plot_Auc_roc(y_test,pred_prob):\n",
        "  '''It will take y_test and y predicted probabilities\n",
        "  as input and will plot the roc curve.'''\n",
        "\n",
        "  fpr = {}\n",
        "  tpr = {}\n",
        "  thresh ={}\n",
        "\n",
        "  n_class = 4\n",
        "\n",
        "  for i in range(n_class):    \n",
        "      fpr[i], tpr[i], thresh[i] = roc_curve(y_test, pred_prob[:,i], pos_label=i)\n",
        "      \n",
        "  # plotting    \n",
        "  plt.figure(figsize=(12,8))\n",
        "  plt.plot(fpr[0], tpr[0], linestyle='--',color='orange', label= ((f'Class 0(Low cost) vs Rest, AUC= {round(auc(fpr[0],tpr[0]),4)}')))\n",
        "  plt.plot(fpr[1], tpr[1], linestyle='--',color='green', label=((f'Class 1(Medium cost) vs Rest, AUC= {round(auc(fpr[1],tpr[1]),4)}')))\n",
        "  plt.plot(fpr[2], tpr[2], linestyle='--',color='blue', label=((f'Class 2(High cost) vs Rest, AUC= {round(auc(fpr[2],tpr[2]),4)}')))\n",
        "  plt.plot(fpr[3], tpr[3], linestyle='--',color='red', label=((f'Class 3(Very High cost) vs Rest, AUC= {round(auc(fpr[3],tpr[3]),4)}')))\n",
        "  plt.title('Multiclass ROC curve')\n",
        "  plt.xlabel('False Positive Rate')\n",
        "  plt.ylabel('True Positive rate')\n",
        "  plt.legend(loc='best')\n",
        "  plt.savefig('Multiclass ROC',dpi=300);  "
      ]
    },
    {
      "cell_type": "code",
      "execution_count": null,
      "metadata": {
        "id": "nbFQ2xuXmffS"
      },
      "outputs": [],
      "source": [
        "# creating a class list\n",
        "Class_cat = ['low cost','medium cost', 'high cost', 'very high cost']"
      ]
    },
    {
      "cell_type": "markdown",
      "metadata": {
        "id": "zdyA-2abmnys"
      },
      "source": [
        "# **1)Decision Tree Classifier:**"
      ]
    },
    {
      "cell_type": "markdown",
      "metadata": {
        "id": "fGoOYwyym653"
      },
      "source": [
        "**Decision trees and ensemble methods do not require feature scaling to be performed as they are not sensitive to the the variance in the data.**\n",
        "**So here we will use X_train,X_test,y_test and Y_train which are not scaled.**"
      ]
    },
    {
      "cell_type": "markdown",
      "metadata": {
        "id": "Gca6wa7GnyM3"
      },
      "source": [
        "***Decision Tree with default hyperparameters:***"
      ]
    },
    {
      "cell_type": "code",
      "execution_count": null,
      "metadata": {
        "id": "xX0hGDNYgL67"
      },
      "outputs": [],
      "source": [
        "# Creating object of the decision tree.\n",
        "dtc=DecisionTreeClassifier(random_state=0)\n"
      ]
    },
    {
      "cell_type": "code",
      "execution_count": null,
      "metadata": {
        "id": "wcOHa8eCn9iP"
      },
      "outputs": [],
      "source": [
        "# fitting/training the train set.\n",
        "dtc.fit(X_train,y_train)"
      ]
    },
    {
      "cell_type": "code",
      "execution_count": null,
      "metadata": {
        "id": "VBg-fEEloTaO"
      },
      "outputs": [],
      "source": [
        "# Predicting y values of train and test data.\n",
        "y_train_pred=dtc.predict(X_train)\n",
        "y_pred=dtc.predict(X_test)"
      ]
    },
    {
      "cell_type": "code",
      "execution_count": null,
      "metadata": {
        "id": "dHSeNtOfohsg"
      },
      "outputs": [],
      "source": [
        "# Checking train set accuracy.\n",
        "accuracy_score(y_train,y_train_pred)"
      ]
    },
    {
      "cell_type": "code",
      "execution_count": null,
      "metadata": {
        "id": "FWqTfcfsopmt"
      },
      "outputs": [],
      "source": [
        "# Checking test set accuracy\n",
        "accuracy_score(y_test,y_pred)"
      ]
    },
    {
      "cell_type": "code",
      "execution_count": null,
      "metadata": {
        "id": "vOYcIvUpoyJM"
      },
      "outputs": [],
      "source": [
        "# Confusion matrix for test set.\n",
        "cf_matrix=confusion_matrix(y_test,y_pred)\n",
        "cf_matrix"
      ]
    },
    {
      "cell_type": "code",
      "execution_count": null,
      "metadata": {
        "id": "x0lOzObnqXsZ"
      },
      "outputs": [],
      "source": [
        "# plotting confusion matrix for test set.\n",
        "plot_confusion_matrix(dtc,X_test,y_test,cmap='Greys',display_labels=Class_cat,xticks_rotation='vertical')\n",
        "plt.grid(False)\n",
        "plt.title('Confusion Matrix-testset',fontsize=15)\n",
        "plt.show()"
      ]
    },
    {
      "cell_type": "code",
      "execution_count": null,
      "metadata": {
        "id": "SYHRax-6pIu7"
      },
      "outputs": [],
      "source": [
        "# Printing classification of train set.\n",
        "print(classification_report(y_train,y_train_pred))"
      ]
    },
    {
      "cell_type": "code",
      "execution_count": null,
      "metadata": {
        "id": "1CQDRoREphwQ"
      },
      "outputs": [],
      "source": [
        "# printing classification of test set.\n",
        "print(classification_report(y_test,y_pred))"
      ]
    },
    {
      "cell_type": "markdown",
      "metadata": {
        "id": "v4SONNkS0Fgk"
      },
      "source": [
        "* ***Train set accuracy is 100% and test accuracy is 84%.***\n",
        "* ***Model is overfitted on train set and did not generalised well.***\n",
        "* ***We will tune hyperparamters to reduce overfitting and try to imporve the model performance.***"
      ]
    },
    {
      "cell_type": "markdown",
      "metadata": {
        "id": "9SsT_nz5_2bv"
      },
      "source": [
        "### **Let's tune some hypereparameters of Decsion Tree classifier:**"
      ]
    },
    {
      "cell_type": "code",
      "execution_count": null,
      "metadata": {
        "id": "AzTonvxswyFD"
      },
      "outputs": [],
      "source": [
        "# creating an object of classifier.\n",
        "dtc_= DecisionTreeClassifier(random_state=0)"
      ]
    },
    {
      "cell_type": "code",
      "execution_count": null,
      "metadata": {
        "id": "DEqGo0p7CmSg"
      },
      "outputs": [],
      "source": [
        "# paramter grid values for hyperparameter tunning.\n",
        "grid_values={'criterion':['gini','entropy'],\n",
        "             'max_depth':[2,3,4,5,6,9,10,11,12,13,14,15],\n",
        "             'splitter':['best','random'],\n",
        "             'min_samples_split':[3,5,10],\n",
        "             'max_features':['auto','sqrt','log2',None]}"
      ]
    },
    {
      "cell_type": "code",
      "execution_count": null,
      "metadata": {
        "id": "GWIm8yrltGIB"
      },
      "outputs": [],
      "source": [
        "# applying GridSearchCv and fitting the model with it.\n",
        "dtc_tune=GridSearchCV(dtc_,param_grid=grid_values,cv=5,scoring='accuracy',verbose=3)\n",
        "dtc_tune.fit(X_train,y_train)   # model fitting."
      ]
    },
    {
      "cell_type": "code",
      "execution_count": null,
      "metadata": {
        "id": "ZSkJEu73EH8l"
      },
      "outputs": [],
      "source": [
        "# getting best parameters for model.\n",
        "dtc_tune.best_params_"
      ]
    },
    {
      "cell_type": "code",
      "execution_count": null,
      "metadata": {
        "id": "WfJMmf7xEYbm"
      },
      "outputs": [],
      "source": [
        "# getting best estimators\n",
        "dtc_tune.best_estimator_"
      ]
    },
    {
      "cell_type": "code",
      "execution_count": null,
      "metadata": {
        "id": "xJZ5PU93EmEx"
      },
      "outputs": [],
      "source": [
        "# using best parameters and training the the data.\n",
        "dtc_optimal=DecisionTreeClassifier(criterion='entropy', max_depth=9, min_samples_split=10,\n",
        "                       random_state=0)\n",
        "dtc_optimal.fit(X_train,y_train)"
      ]
    },
    {
      "cell_type": "code",
      "execution_count": null,
      "metadata": {
        "id": "v9htr8pFE5kc"
      },
      "outputs": [],
      "source": [
        "# predicting y values of train and test set.\n",
        "y_train_pred=dtc_optimal.predict(X_train)\n",
        "y_pred=dtc_optimal.predict(X_test)"
      ]
    },
    {
      "cell_type": "code",
      "execution_count": null,
      "metadata": {
        "id": "Y2sPFyrZFJNK"
      },
      "outputs": [],
      "source": [
        "# Checking the accuarcy score of train set.\n",
        "accuracy_score(y_train,y_train_pred)"
      ]
    },
    {
      "cell_type": "code",
      "execution_count": null,
      "metadata": {
        "id": "_C_dOghmFMTZ"
      },
      "outputs": [],
      "source": [
        "# Checking the accuarcy score of test set.\n",
        "accuracy_score(y_test,y_pred)"
      ]
    },
    {
      "cell_type": "code",
      "execution_count": null,
      "metadata": {
        "id": "hS6CTeOiFsBW"
      },
      "outputs": [],
      "source": [
        "# getting confusion matrix for test set.\n",
        "cf_matrix=confusion_matrix(y_test,y_pred)\n",
        "cf_matrix"
      ]
    },
    {
      "cell_type": "code",
      "execution_count": null,
      "metadata": {
        "id": "ekqP-eim7JV0"
      },
      "outputs": [],
      "source": [
        "# plotting confusion matrix for test set.\n",
        "plot_confusion_matrix(dtc_optimal,X_test,y_test,cmap='Greys',display_labels=Class_cat,xticks_rotation='vertical')\n",
        "plt.grid(False)\n",
        "plt.title('Confusion Matrix-testset',fontsize=15)\n",
        "plt.show()"
      ]
    },
    {
      "cell_type": "code",
      "execution_count": null,
      "metadata": {
        "id": "F-f-3_vAF1Db"
      },
      "outputs": [],
      "source": [
        "# printing classification report for train set.\n",
        "print(classification_report(y_train,y_train_pred))"
      ]
    },
    {
      "cell_type": "code",
      "execution_count": null,
      "metadata": {
        "id": "zLbABPYmGGFT"
      },
      "outputs": [],
      "source": [
        "# printing classification report for test set.\n",
        "print(classification_report(y_test,y_pred))"
      ]
    },
    {
      "cell_type": "code",
      "execution_count": null,
      "metadata": {
        "id": "COgOorAaK-fk"
      },
      "outputs": [],
      "source": [
        "# creating a function for plotting the feature importances.\n",
        "def plot_feature_importance(algo):\n",
        "  ''' Takes the alogorithm as input and \n",
        "  plots the feature importance graph'''\n",
        "  \n",
        "  # get importance\n",
        "  importance = algo.feature_importances_\n",
        "  feat_importance=pd.DataFrame({'Features':X.columns,'score':importance}).sort_values(by='score',ascending=False)\n",
        "  plt.figure(figsize=(10,8))\n",
        "  sns.barplot(x=feat_importance['score'],y=feat_importance['Features'])\n",
        "  plt.title('Feature Importance')"
      ]
    },
    {
      "cell_type": "code",
      "execution_count": null,
      "metadata": {
        "id": "bVz6ezWWLsRT"
      },
      "outputs": [],
      "source": [
        "#plotting feature importances\n",
        "plot_feature_importance(dtc_optimal)"
      ]
    },
    {
      "cell_type": "code",
      "execution_count": null,
      "metadata": {
        "id": "4Z5llCpAD3oM"
      },
      "outputs": [],
      "source": [
        "# Plot AUC ROC curve.\n",
        "pred_prob = dtc_optimal.predict_proba(X_test)\n",
        "plot_Auc_roc(y_test,pred_prob)"
      ]
    },
    {
      "cell_type": "markdown",
      "metadata": {
        "id": "aIN7hGvzzz2_"
      },
      "source": [
        "### **Decision Tree Classifier-Observations:**\n",
        "* ***Train accuarcy has been reduced to 98% from 100% and test accuarcy is increased by 1% . Thus we somewhat reduced the overfiiting by reducing the training accuarcy. However this will not be good model for us.***\n",
        "\n",
        "* ***RAM,battery power,px_height and width came out to be the most important featrures***\n",
        "* ***This model classified the class 0 and class 3 very nicely as we can see the AUC is almost 0.96 for both classes,whereas for class 1 and class 2 it is 0.88.***"
      ]
    },
    {
      "cell_type": "markdown",
      "metadata": {
        "id": "g7eCybf15D4q"
      },
      "source": [
        "# **2) Random Forest classifier:**"
      ]
    },
    {
      "cell_type": "markdown",
      "metadata": {
        "id": "7cKMfzBP5S-v"
      },
      "source": [
        "### **With default hyperparamters:**"
      ]
    },
    {
      "cell_type": "code",
      "execution_count": null,
      "metadata": {
        "id": "6JGPnLSfbFBV"
      },
      "outputs": [],
      "source": [
        "# splitting the data into trainset and test set.\n",
        "X_train, X_test, y_train, y_test = train_test_split(X, y, test_size=0.25, random_state=0)"
      ]
    },
    {
      "cell_type": "code",
      "execution_count": null,
      "metadata": {
        "id": "qtVl0SNWzwrD"
      },
      "outputs": [],
      "source": [
        "# creating an object of the classifier.\n",
        "rfc=RandomForestClassifier(random_state=0)"
      ]
    },
    {
      "cell_type": "code",
      "execution_count": null,
      "metadata": {
        "id": "xNWzIQhQ5jdz"
      },
      "outputs": [],
      "source": [
        "# fitting/training the model.\n",
        "rfc.fit(X_train,y_train)"
      ]
    },
    {
      "cell_type": "code",
      "execution_count": null,
      "metadata": {
        "id": "xyxavA-Y5soY"
      },
      "outputs": [],
      "source": [
        "# predicting the y values of train set and test set.\n",
        "y_train_pred=rfc.predict(X_train)\n",
        "y_pred=rfc.predict(X_test)"
      ]
    },
    {
      "cell_type": "code",
      "execution_count": null,
      "metadata": {
        "id": "100-FvLc6CyB"
      },
      "outputs": [],
      "source": [
        "# Checking the accuarcy score of train set.\n",
        "accuracy_score(y_train,y_train_pred)"
      ]
    },
    {
      "cell_type": "code",
      "execution_count": null,
      "metadata": {
        "id": "b0WRiacc59DG"
      },
      "outputs": [],
      "source": [
        "# Checking the accuracy score of test set.\n",
        "accuracy_score(y_test,y_pred)"
      ]
    },
    {
      "cell_type": "code",
      "execution_count": null,
      "metadata": {
        "id": "WD-oJqdT6VHW"
      },
      "outputs": [],
      "source": [
        "# Confusion matrix for test set.\n",
        "cf_matrix=confusion_matrix(y_test,y_pred)\n",
        "cf_matrix"
      ]
    },
    {
      "cell_type": "code",
      "execution_count": null,
      "metadata": {
        "id": "LY1uOaRN6exh"
      },
      "outputs": [],
      "source": [
        "# plotting confusion matrix for test set.\n",
        "plot_confusion_matrix(rfc,X_test,y_test,cmap='Greys',display_labels=Class_cat,xticks_rotation='vertical')\n",
        "plt.grid(False)\n",
        "plt.title('Confusion Matrix-testset',fontsize=15)\n",
        "plt.show()"
      ]
    },
    {
      "cell_type": "code",
      "execution_count": null,
      "metadata": {
        "id": "3OFGr2qa69Bb"
      },
      "outputs": [],
      "source": [
        "# printing the classification report for train set.\n",
        "print(classification_report(y_train,y_train_pred))"
      ]
    },
    {
      "cell_type": "code",
      "execution_count": null,
      "metadata": {
        "id": "RdVrrcWz7667"
      },
      "outputs": [],
      "source": [
        "# printing the classification report for train set.\n",
        "print(classification_report(y_test,y_pred))"
      ]
    },
    {
      "cell_type": "markdown",
      "metadata": {
        "id": "ePjFkZrc8IYE"
      },
      "source": [
        "* ***Train accuarcy is 100% and test accuracy is 88%. which is quite good. But model seems to be overfitted and has not generalised the data well. We need to reduce overfitting and improve the model performance.***\n",
        "* ***we do some hyperparameter tunning to reduce overfitting***"
      ]
    },
    {
      "cell_type": "markdown",
      "metadata": {
        "id": "Lb9YIPy48sqQ"
      },
      "source": [
        "### **Let's do some Hyperparamter Tunning of the Random forest model**"
      ]
    },
    {
      "cell_type": "code",
      "execution_count": null,
      "metadata": {
        "id": "nMdCUidK9m-U"
      },
      "outputs": [],
      "source": [
        "# para_grid values to pass in gridsearchcv.\n",
        "grid_values={'n_estimators':[300, 400, 500, 700],\n",
        "          'max_depth':[None, 10, 20, 40],\n",
        "          'min_samples_split':[2,6,10],\n",
        "          'max_leaf_nodes':[None],\n",
        "          'criterion':['entropy','gini'],\n",
        "          'max_features':['auto','log2','sqrt']\n",
        "          \n",
        "             }"
      ]
    },
    {
      "cell_type": "code",
      "execution_count": null,
      "metadata": {
        "id": "hDUi1Xo58EnY"
      },
      "outputs": [],
      "source": [
        "# creating the instance \n",
        "rfc_= RandomForestClassifier(random_state=0)"
      ]
    },
    {
      "cell_type": "code",
      "execution_count": null,
      "metadata": {
        "id": "2C6MQXOD9D2C"
      },
      "outputs": [],
      "source": [
        "# Applying GridSearchCV\n",
        "rfc_tune=GridSearchCV(rfc_,param_grid=grid_values,cv=3,verbose=3,scoring='accuracy')\n",
        "rfc_tune.fit(X_train,y_train)"
      ]
    },
    {
      "cell_type": "code",
      "execution_count": null,
      "metadata": {
        "id": "P0H0bZC5_O_l"
      },
      "outputs": [],
      "source": [
        "#Getting best paramters for the models\n",
        "rfc_tune.best_params_"
      ]
    },
    {
      "cell_type": "code",
      "execution_count": null,
      "metadata": {
        "id": "V-2hP81fCYwF"
      },
      "outputs": [],
      "source": [
        "# fitting/training the data with best parameters.\n",
        "rfc_optimal=RandomForestClassifier(max_features='auto',criterion='entropy',max_depth=None,max_leaf_nodes=None,min_samples_split=6,n_estimators=700,random_state=0)\n",
        "rfc_optimal.fit(X_train,y_train)"
      ]
    },
    {
      "cell_type": "code",
      "execution_count": null,
      "metadata": {
        "id": "6cb6RgLtCgjY"
      },
      "outputs": [],
      "source": [
        "# predicting y values of train and test set.\n",
        "y_train_pred=rfc_optimal.predict(X_train)\n",
        "y_pred=rfc_optimal.predict(X_test)"
      ]
    },
    {
      "cell_type": "code",
      "execution_count": null,
      "metadata": {
        "id": "a7-vvljBCw11"
      },
      "outputs": [],
      "source": [
        "# checking the train accuracy score.\n",
        "accuracy_score(y_train,y_train_pred)"
      ]
    },
    {
      "cell_type": "code",
      "execution_count": null,
      "metadata": {
        "id": "I3TERm5oC3WL"
      },
      "outputs": [],
      "source": [
        "# checking the test accuracy score.\n",
        "accuracy_score(y_test,y_pred)"
      ]
    },
    {
      "cell_type": "code",
      "execution_count": null,
      "metadata": {
        "id": "dkSQmWFAC6x7"
      },
      "outputs": [],
      "source": [
        "# getting confusion matrix\n",
        "cf_matrix=confusion_matrix(y_test,y_pred)\n",
        "cf_matrix"
      ]
    },
    {
      "cell_type": "code",
      "execution_count": null,
      "metadata": {
        "id": "Ft15LoqjJmZZ"
      },
      "outputs": [],
      "source": [
        "# plotting confusion matrix for test set.\n",
        "plot_confusion_matrix(rfc_optimal,X_test,y_test,cmap='Greys',display_labels=Class_cat,xticks_rotation='vertical')\n",
        "plt.grid(False)\n",
        "plt.title('Confusion Matrix-testset',fontsize=15)\n",
        "plt.show()"
      ]
    },
    {
      "cell_type": "code",
      "execution_count": null,
      "metadata": {
        "id": "mXA_QwpTJy_y"
      },
      "outputs": [],
      "source": [
        "# printing the classification report for train set\n",
        "print(classification_report(y_train,y_train_pred))"
      ]
    },
    {
      "cell_type": "code",
      "execution_count": null,
      "metadata": {
        "id": "Qx_9lIHxJ-2H"
      },
      "outputs": [],
      "source": [
        "# printing the classification report for train set\n",
        "print(classification_report(y_test,y_pred))"
      ]
    },
    {
      "cell_type": "code",
      "execution_count": null,
      "metadata": {
        "id": "qgj4OwByKGxH"
      },
      "outputs": [],
      "source": [
        "#plotting feature importances\n",
        "plot_feature_importance(rfc_optimal)"
      ]
    },
    {
      "cell_type": "code",
      "execution_count": null,
      "metadata": {
        "id": "3R8MX44nKU6C"
      },
      "outputs": [],
      "source": [
        "# Plot AUC ROC curve.\n",
        "pred_prob = rfc_optimal.predict_proba(X_test)\n",
        "plot_Auc_roc(y_test,pred_prob)"
      ]
    },
    {
      "cell_type": "markdown",
      "metadata": {
        "id": "gMda2t0mDG9B"
      },
      "source": [
        "###**Observations of Random Forest:**\n",
        "***Before Tuning***\n",
        "* ***training accuarcy = 100%***\n",
        "* ***test accuarcy = 88%***\n",
        "\n",
        "***Model is overfitted the data and does not generalised well. So we tuned the hyperparameters.***\n",
        "\n",
        "***After tuning:***\n",
        "* ***Training accuarcy= 100%***\n",
        "* ***Test accuarcy = 90%***\n",
        "\n",
        "***we have slightly improved the model and overfitting is reduced slightly.***\n",
        "\n",
        "***From roc curve its clear that model has poorly performed to classify class 1 and class 2.***"
      ]
    },
    {
      "cell_type": "markdown",
      "metadata": {
        "id": "hZSRcmHCHWQy"
      },
      "source": [
        "# **3)Gradient Boosting Classifier:**"
      ]
    },
    {
      "cell_type": "markdown",
      "metadata": {
        "id": "qwzHjwK7HYmb"
      },
      "source": [
        "### **With default hyperparameters:**"
      ]
    },
    {
      "cell_type": "code",
      "execution_count": null,
      "metadata": {
        "id": "PNWz8Y6UzH_T"
      },
      "outputs": [],
      "source": [
        "# Train test split\n",
        "X_train, X_test, y_train, y_test = train_test_split(X, y, test_size=0.25, random_state=0)"
      ]
    },
    {
      "cell_type": "code",
      "execution_count": null,
      "metadata": {
        "id": "dTOvnOWPKoo4"
      },
      "outputs": [],
      "source": [
        "# creating an object of the classifier\n",
        "gbc=GradientBoostingClassifier(random_state=0)"
      ]
    },
    {
      "cell_type": "code",
      "execution_count": null,
      "metadata": {
        "id": "HI96QmLgHpeH"
      },
      "outputs": [],
      "source": [
        "# fittng/training the data.\n",
        "gbc.fit(X_train,y_train)"
      ]
    },
    {
      "cell_type": "code",
      "execution_count": null,
      "metadata": {
        "id": "eE0n0vz6Pbif"
      },
      "outputs": [],
      "source": [
        "# predicting y values of train and test set.\n",
        "y_train_pred=gbc.predict(X_train)\n",
        "y_pred=gbc.predict(X_test)"
      ]
    },
    {
      "cell_type": "code",
      "execution_count": null,
      "metadata": {
        "id": "OH4XI_nLPn6Q"
      },
      "outputs": [],
      "source": [
        "# checking the accuracy score of train data.\n",
        "accuracy_score(y_train,y_train_pred)"
      ]
    },
    {
      "cell_type": "code",
      "execution_count": null,
      "metadata": {
        "id": "Sv4F45bJPsHr"
      },
      "outputs": [],
      "source": [
        "# checking the accuracy score of test data.\n",
        "accuracy_score(y_test,y_pred)"
      ]
    },
    {
      "cell_type": "code",
      "execution_count": null,
      "metadata": {
        "id": "_KuuO7yjP0BG"
      },
      "outputs": [],
      "source": [
        "# confusion matrix\n",
        "cf_matrix=confusion_matrix(y_test,y_pred)\n",
        "cf_matrix"
      ]
    },
    {
      "cell_type": "code",
      "execution_count": null,
      "metadata": {
        "id": "HcmY4dXAP8pa"
      },
      "outputs": [],
      "source": [
        "# plotting confusion matrix for test set.\n",
        "plot_confusion_matrix(gbc,X_test,y_test,cmap='Greys',display_labels=Class_cat,xticks_rotation='vertical')\n",
        "plt.grid(False)\n",
        "plt.title('Confusion Matrix-testset',fontsize=15)\n",
        "plt.show()"
      ]
    },
    {
      "cell_type": "code",
      "source": [
        "# printing the classification report for train set\n",
        "print(classification_report(y_train,y_train_pred))"
      ],
      "metadata": {
        "id": "L2RPfr1ne0zT"
      },
      "execution_count": null,
      "outputs": []
    },
    {
      "cell_type": "code",
      "source": [
        "# printing the classification report for train set\n",
        "print(classification_report(y_test,y_pred))"
      ],
      "metadata": {
        "id": "rNPsd8W-e7Pl"
      },
      "execution_count": null,
      "outputs": []
    },
    {
      "cell_type": "markdown",
      "metadata": {
        "id": "WzGrUAN8qGNa"
      },
      "source": [
        "### **Let's do some hyperparameter tuning.**"
      ]
    },
    {
      "cell_type": "code",
      "execution_count": null,
      "metadata": {
        "id": "HGkNd267ptHv"
      },
      "outputs": [],
      "source": [
        "# Creating an object of the classifier\n",
        "gbc=GradientBoostingClassifier(random_state=0)"
      ]
    },
    {
      "cell_type": "code",
      "execution_count": null,
      "metadata": {
        "id": "V8DEa-ZRr5g2"
      },
      "outputs": [],
      "source": [
        "# para_grid values to pass in gridsearchcv.\n",
        "grid_values={'learning_rate':[0.005,1,2,3],\n",
        "             'min_samples_split':range(10,26)\n",
        "          \n",
        "             }"
      ]
    },
    {
      "cell_type": "code",
      "execution_count": null,
      "metadata": {
        "id": "aXmViqNCQrGJ"
      },
      "outputs": [],
      "source": [
        "# Applying GridSearchCV\n",
        "gbc_tune=GridSearchCV(gbc,param_grid=grid_values,cv=3,verbose=1,scoring='accuracy')\n",
        "gbc_tune.fit(X_train,y_train)"
      ]
    },
    {
      "cell_type": "code",
      "execution_count": null,
      "metadata": {
        "id": "PGaY7E2bGvBF"
      },
      "outputs": [],
      "source": [
        "# Getting best parameters\n",
        "gbc_tune.best_params_"
      ]
    },
    {
      "cell_type": "code",
      "execution_count": null,
      "metadata": {
        "id": "9taxXpnpGxHi"
      },
      "outputs": [],
      "source": [
        "# getting best estimators\n",
        "gbc_tune.best_estimator_"
      ]
    },
    {
      "cell_type": "code",
      "execution_count": null,
      "metadata": {
        "id": "g_QE_yQhGyOc"
      },
      "outputs": [],
      "source": [
        "\n",
        "# aplying best estimarors\n",
        "gbc_optimal=GradientBoostingClassifier(learning_rate=1,random_state=0,min_samples_split=25)\n",
        "gbc_optimal.fit(X_train,y_train)"
      ]
    },
    {
      "cell_type": "code",
      "execution_count": null,
      "metadata": {
        "id": "KnYnn494GzxS"
      },
      "outputs": [],
      "source": [
        "# predicting the y values of train and test set.\n",
        "y_train_pred=gbc_optimal.predict(X_train)  \n",
        "y_pred=gbc_optimal.predict(X_test)"
      ]
    },
    {
      "cell_type": "code",
      "execution_count": null,
      "metadata": {
        "id": "3Xd0n3MsG1Ro"
      },
      "outputs": [],
      "source": [
        "# train set accuracy score\n",
        "accuracy_score(y_train,y_train_pred)"
      ]
    },
    {
      "cell_type": "code",
      "execution_count": null,
      "metadata": {
        "id": "9SwIHN_PG2yX"
      },
      "outputs": [],
      "source": [
        "# test set accuracy score\n",
        "accuracy_score(y_test,y_pred)"
      ]
    },
    {
      "cell_type": "code",
      "execution_count": null,
      "metadata": {
        "id": "N9X75EFrH5uT"
      },
      "outputs": [],
      "source": [
        "# confusion matrix\n",
        "cf_matrix=confusion_matrix(y_test,y_pred)\n",
        "cf_matrix"
      ]
    },
    {
      "cell_type": "code",
      "execution_count": null,
      "metadata": {
        "id": "B6s1RLqXPA9o"
      },
      "outputs": [],
      "source": [
        "# plotting confusion matrix for test set.\n",
        "plot_confusion_matrix(gbc_optimal,X_test,y_test,cmap='Greys',display_labels=Class_cat,xticks_rotation='vertical')\n",
        "plt.grid(False)\n",
        "plt.title('Confusion Matrix-testset',fontsize=15)\n",
        "plt.show()"
      ]
    },
    {
      "cell_type": "code",
      "execution_count": null,
      "metadata": {
        "id": "1pQlEk6LPTfZ"
      },
      "outputs": [],
      "source": [
        "# printing the classification report of train set.\n",
        "print(classification_report(y_train,y_train_pred))"
      ]
    },
    {
      "cell_type": "code",
      "execution_count": null,
      "metadata": {
        "id": "qJpsTuhyPj2b"
      },
      "outputs": [],
      "source": [
        "# printing the classification report of test set.\n",
        "print(classification_report(y_test,y_pred))"
      ]
    },
    {
      "cell_type": "code",
      "execution_count": null,
      "metadata": {
        "id": "mW9_j8QPPuuU"
      },
      "outputs": [],
      "source": [
        "#plotting feature importances\n",
        "plot_feature_importance(gbc_optimal)"
      ]
    },
    {
      "cell_type": "code",
      "execution_count": null,
      "metadata": {
        "id": "EIbx_o5jP8Y6"
      },
      "outputs": [],
      "source": [
        "# Plot AUC ROC curve.\n",
        "pred_prob = gbc_optimal.predict_proba(X_test)\n",
        "plot_Auc_roc(y_test,pred_prob)"
      ]
    },
    {
      "cell_type": "markdown",
      "metadata": {
        "id": "ZQKyh6I-QS_x"
      },
      "source": [
        "### **Observations of Gradient Boost Classifiers:**\n",
        "\n",
        "***Before tunning:***\n",
        "* ***Train accuracy score= 100%.***\n",
        "* ***Test accuracy score= 89%***\n",
        "\n",
        "***Model did not generalised well and overfitted the training data.*** ***so we tuned hyperparameters of model.***\n",
        "\n",
        "***After Hyperparameter Tuning***\n",
        "* ***Train accuracy score= 100%***\n",
        "* ***Test accuarcy score=90%***\n",
        "\n",
        "***Thus we slightly improved the model performance.However the model is not best.***\n",
        "\n",
        "\n",
        "\n",
        "\n",
        "\n",
        "***From ROC curve it's clear that model was good to classify the class 0 and class 3.From the classification report its clear that recall for class 0 and class 3 is also good which is 96% and 90% respectively.***\n"
      ]
    },
    {
      "cell_type": "markdown",
      "metadata": {
        "id": "p-F-ULNaiHnD"
      },
      "source": [
        "# **4)K Nearest Neighbors**"
      ]
    },
    {
      "cell_type": "markdown",
      "metadata": {
        "id": "_FUt86IHicjO"
      },
      "source": [
        "### **With default hyperparametrs:**"
      ]
    },
    {
      "cell_type": "code",
      "execution_count": null,
      "metadata": {
        "id": "dMiJui6siabU"
      },
      "outputs": [],
      "source": [
        "knn=KNeighborsClassifier()     # creating an object of the classifier\n",
        "knn.fit(X_train_scaled,y_train)   #  fitting the data"
      ]
    },
    {
      "cell_type": "code",
      "execution_count": null,
      "metadata": {
        "id": "LUBWZKXxiy1h"
      },
      "outputs": [],
      "source": [
        "# predicting the y values of train and test set.\n",
        "y_train_pred=knn.predict(X_train_scaled)\n",
        "y_pred=knn.predict(X_test_scaled)"
      ]
    },
    {
      "cell_type": "code",
      "execution_count": null,
      "metadata": {
        "id": "kvBrficAi4ln"
      },
      "outputs": [],
      "source": [
        "# checking the accuracy score of train set\n",
        "accuracy_score(y_train,y_train_pred)"
      ]
    },
    {
      "cell_type": "code",
      "execution_count": null,
      "metadata": {
        "id": "-wXH9ffrjWd0"
      },
      "outputs": [],
      "source": [
        "# Checking the accuracy score of test set.\n",
        "accuracy_score(y_test,y_pred)"
      ]
    },
    {
      "cell_type": "code",
      "execution_count": null,
      "metadata": {
        "id": "JnDFTvigjVpb"
      },
      "outputs": [],
      "source": [
        "# confusion matrix\n",
        "cf_matrix=confusion_matrix(y_test,y_pred)\n",
        "cf_matrix"
      ]
    },
    {
      "cell_type": "code",
      "execution_count": null,
      "metadata": {
        "id": "aJsHIQNVj4-o"
      },
      "outputs": [],
      "source": [
        "# plotting confusion matrix for test set.\n",
        "plot_confusion_matrix(knn,X_test_scaled,y_test,cmap='Greys',display_labels=Class_cat,xticks_rotation='vertical')\n",
        "plt.grid(False)\n",
        "plt.title('Confusion Matrix-testset',fontsize=15)\n",
        "plt.show()"
      ]
    },
    {
      "cell_type": "code",
      "source": [
        "# printing the classification report of test set.\n",
        "print(classification_report(y_train,y_train_pred))"
      ],
      "metadata": {
        "id": "SVd7GHOEgJSB"
      },
      "execution_count": null,
      "outputs": []
    },
    {
      "cell_type": "code",
      "source": [
        "# printing the classification report of test set.\n",
        "print(classification_report(y_test,y_pred))"
      ],
      "metadata": {
        "id": "Je04NkyogB2Y"
      },
      "execution_count": null,
      "outputs": []
    },
    {
      "cell_type": "code",
      "execution_count": null,
      "metadata": {
        "id": "kIJBl7IKlDEN"
      },
      "outputs": [],
      "source": [
        "# Plot AUC ROC curve.\n",
        "pred_prob = knn.predict_proba(X_test_scaled)\n",
        "plot_Auc_roc(y_test,pred_prob)"
      ]
    },
    {
      "cell_type": "markdown",
      "metadata": {
        "id": "Kd9Pc1ZblXeG"
      },
      "source": [
        "### **Let's do some HyperParameter tuning.**"
      ]
    },
    {
      "cell_type": "code",
      "execution_count": null,
      "metadata": {
        "id": "GYjcIra2lPN9"
      },
      "outputs": [],
      "source": [
        "# creating an object of classifier\n",
        "knn=KNeighborsClassifier()"
      ]
    },
    {
      "cell_type": "code",
      "execution_count": null,
      "metadata": {
        "id": "vEnUq70dpXo-"
      },
      "outputs": [],
      "source": [
        "# parameter grid values.\n",
        "grid_values = {'n_neighbors':list(range(1, 31))}"
      ]
    },
    {
      "cell_type": "code",
      "execution_count": null,
      "metadata": {
        "id": "qnVi_OfTl2MT"
      },
      "outputs": [],
      "source": [
        "# applyong GridSearchCv with above grid values and cv=5\n",
        "knn_tune=GridSearchCV(knn,cv=5,scoring='accuracy',verbose=3,param_grid=grid_values)\n",
        "knn_tune.fit(X_train_scaled,y_train)"
      ]
    },
    {
      "cell_type": "code",
      "execution_count": null,
      "metadata": {
        "id": "5VIPBwXLp_J6"
      },
      "outputs": [],
      "source": [
        "# getting thge best parameters\n",
        "knn_tune.best_params_                     # thus  best n_neighnors came out to be 29"
      ]
    },
    {
      "cell_type": "code",
      "execution_count": null,
      "metadata": {
        "id": "uh4eNKRiq0JV"
      },
      "outputs": [],
      "source": [
        "# fitting the data with best parameters\n",
        "knn_optimal=KNeighborsClassifier(n_neighbors=29)\n",
        "knn_optimal.fit(X_train_scaled,y_train)"
      ]
    },
    {
      "cell_type": "code",
      "execution_count": null,
      "metadata": {
        "id": "WKAyVSp-q_a_"
      },
      "outputs": [],
      "source": [
        "# predicting y values of train and test set.\n",
        "y_train_pred=knn_optimal.predict(X_train_scaled)\n",
        "y_pred=knn_optimal.predict(X_test_scaled)"
      ]
    },
    {
      "cell_type": "code",
      "execution_count": null,
      "metadata": {
        "id": "UwonnDlKrYbi"
      },
      "outputs": [],
      "source": [
        "#checking the accuracy score of train set.\n",
        "accuracy_score(y_train,y_train_pred)"
      ]
    },
    {
      "cell_type": "code",
      "execution_count": null,
      "metadata": {
        "id": "4ByYy5BBrdbZ"
      },
      "outputs": [],
      "source": [
        "# checking the accuracy score of test set.\n",
        "accuracy_score(y_test,y_pred)"
      ]
    },
    {
      "cell_type": "code",
      "execution_count": null,
      "metadata": {
        "id": "Jn4cAVQ3rkWT"
      },
      "outputs": [],
      "source": [
        "# confusion matrix\n",
        "cf_matrix=confusion_matrix(y_test,y_pred)\n",
        "cf_matrix"
      ]
    },
    {
      "cell_type": "code",
      "execution_count": null,
      "metadata": {
        "id": "l9rLmoawr4oS"
      },
      "outputs": [],
      "source": [
        "# plotting confusion matrix for test set.\n",
        "plot_confusion_matrix(knn_optimal,X_test_scaled,y_test,cmap='Greys',display_labels=Class_cat,xticks_rotation='vertical')\n",
        "plt.grid(False)\n",
        "plt.title('Confusion Matrix-testset',fontsize=15)\n",
        "plt.show()"
      ]
    },
    {
      "cell_type": "code",
      "execution_count": null,
      "metadata": {
        "id": "pKfJ49n7sHX0"
      },
      "outputs": [],
      "source": [
        "# printig tye classification report of train set.\n",
        "print(classification_report(y_train,y_train_pred))"
      ]
    },
    {
      "cell_type": "code",
      "execution_count": null,
      "metadata": {
        "id": "JssnNBXZsRAs"
      },
      "outputs": [],
      "source": [
        "# printing the classification report of test set.\n",
        "print(classification_report(y_test,y_pred))"
      ]
    },
    {
      "cell_type": "code",
      "execution_count": null,
      "metadata": {
        "id": "rpO3mKTMr_O4"
      },
      "outputs": [],
      "source": [
        "# Plot AUC ROC curve.\n",
        "pred_prob = knn_optimal.predict_proba(X_test_scaled)\n",
        "plot_Auc_roc(y_test,pred_prob)"
      ]
    },
    {
      "cell_type": "markdown",
      "metadata": {
        "id": "Bc691NxkS17C"
      },
      "source": [
        "### **Observations:**\n",
        "***Before hyperparameters tuning:***\n",
        "\n",
        "* ***Train Accuracy:75 %***\n",
        "* ***Test Accuarcy:59 %***\n",
        "\n",
        "***Clearly Model has performed very worst. We did hyperparameter tuning***\n",
        "\n",
        "***After Hyperparameter Tuning:***\n",
        "\n",
        "* ***Train Accuarcy: 77%***\n",
        "* ***Test Accuarcy: 70%***\n",
        "\n",
        "***Surely we improved the model perfromance and reduced overfitting but however this is not  good model for us.***\n",
        "\n"
      ]
    },
    {
      "cell_type": "markdown",
      "metadata": {
        "id": "MUkVFYLMsbz5"
      },
      "source": [
        "# **5) XGBoost Classifier:** "
      ]
    },
    {
      "cell_type": "markdown",
      "metadata": {
        "id": "cYnLuqhAtGVQ"
      },
      "source": [
        "### **With default hyperparameter**"
      ]
    },
    {
      "cell_type": "code",
      "execution_count": null,
      "metadata": {
        "id": "xaea9B_um8OD"
      },
      "outputs": [],
      "source": [
        "# spltting the data into train test split.\n",
        "X_train, X_test, y_train, y_test = train_test_split(X, y, test_size=0.25, random_state=0)"
      ]
    },
    {
      "cell_type": "code",
      "execution_count": null,
      "metadata": {
        "id": "n7GLDbFIsGhH"
      },
      "outputs": [],
      "source": [
        "xgb=XGBClassifier()        # creating an object of the classifier\n",
        "xgb.fit(X_train,y_train)      # fitting the data "
      ]
    },
    {
      "cell_type": "code",
      "execution_count": null,
      "metadata": {
        "id": "v8Tzn54dtPl3"
      },
      "outputs": [],
      "source": [
        "# predicting y values of train and test data.\n",
        "y_train_pred=xgb.predict(X_train)\n",
        "y_pred=xgb.predict(X_test)"
      ]
    },
    {
      "cell_type": "code",
      "execution_count": null,
      "metadata": {
        "id": "WlXLgcU4tpsJ"
      },
      "outputs": [],
      "source": [
        "# checking the accuracy score of train set \n",
        "accuracy_score(y_train,y_train_pred)"
      ]
    },
    {
      "cell_type": "code",
      "execution_count": null,
      "metadata": {
        "id": "WT-EUkxKtw7v"
      },
      "outputs": [],
      "source": [
        "# checking the accuracy score of test data.\n",
        "accuracy_score(y_test,y_pred)"
      ]
    },
    {
      "cell_type": "code",
      "execution_count": null,
      "metadata": {
        "id": "KchaBaLjVK79"
      },
      "outputs": [],
      "source": [
        "# confusion matrix\n",
        "cf_matrix=confusion_matrix(y_test,y_pred)\n",
        "cf_matrix"
      ]
    },
    {
      "cell_type": "code",
      "execution_count": null,
      "metadata": {
        "id": "0tp9X3VynBpM"
      },
      "outputs": [],
      "source": [
        "# printing the classification report of train set\n",
        "print(classification_report(y_train,y_train_pred))"
      ]
    },
    {
      "cell_type": "code",
      "execution_count": null,
      "metadata": {
        "id": "X8jHPFGsnKOZ"
      },
      "outputs": [],
      "source": [
        "# printing the classification report of the test set\n",
        "print(classification_report(y_test,y_pred))"
      ]
    },
    {
      "cell_type": "markdown",
      "metadata": {
        "id": "G_GiLjI4nPVv"
      },
      "source": [
        "***Train accuracy = 98%***\n",
        "***Test Accuarcy= 90 %***"
      ]
    },
    {
      "cell_type": "markdown",
      "metadata": {
        "id": "1GxAWkKanZ63"
      },
      "source": [
        "### **Let's Do some Hyperparameter tuning:**"
      ]
    },
    {
      "cell_type": "code",
      "execution_count": null,
      "metadata": {
        "id": "-z9rgI2PuFxc"
      },
      "outputs": [],
      "source": [
        "\n",
        "# parameter grid values for GridSearchCv \n",
        "grid_values={\n",
        "          'learning_rate':[0.6,1],\n",
        "          'n_estimators':[500,1000],\n",
        "          'gamma':[0.2],\n",
        "          'subsample':[0.5,0.6]\n",
        "          }"
      ]
    },
    {
      "cell_type": "code",
      "execution_count": null,
      "metadata": {
        "id": "tZoLvytQF5T1"
      },
      "outputs": [],
      "source": [
        "# creating an object of the classifier\n",
        "xgb = XGBClassifier()\n",
        "\n",
        "# applying girdsearchcv \n",
        "xgb_tune = GridSearchCV(xgb, grid_values, cv=3,verbose=4)\n",
        "xgb_tune.fit(X_train,y_train)"
      ]
    },
    {
      "cell_type": "code",
      "execution_count": null,
      "metadata": {
        "id": "aRV2uPQRm6lL"
      },
      "outputs": [],
      "source": [
        "xgb_tune.best_params_"
      ]
    },
    {
      "cell_type": "code",
      "execution_count": null,
      "metadata": {
        "id": "wlFqkphJnyrB"
      },
      "outputs": [],
      "source": [
        "xgb_opti=XGBClassifier(learning_rate=.6,gamma=0.2,n_estimators=1000,subsample=0.5)\n",
        "xgb_opti.fit(X_train,y_train)"
      ]
    },
    {
      "cell_type": "code",
      "execution_count": null,
      "metadata": {
        "id": "Cx9X77xPoINc"
      },
      "outputs": [],
      "source": [
        "y_train_pred=xgb_opti.predict(X_train)\n",
        "y_pred=xgb_opti.predict(X_test)"
      ]
    },
    {
      "cell_type": "code",
      "execution_count": null,
      "metadata": {
        "id": "jH68WJ7HoU4-"
      },
      "outputs": [],
      "source": [
        "accuracy_score(y_train,y_train_pred)"
      ]
    },
    {
      "cell_type": "code",
      "execution_count": null,
      "metadata": {
        "id": "-6_16hcdoakY"
      },
      "outputs": [],
      "source": [
        "accuracy_score(y_test,y_pred)"
      ]
    },
    {
      "cell_type": "code",
      "execution_count": null,
      "metadata": {
        "id": "khLaj0NToeKs"
      },
      "outputs": [],
      "source": [
        "cf_matrix=confusion_matrix(y_test,y_pred)\n",
        "cf_matrix"
      ]
    },
    {
      "cell_type": "code",
      "execution_count": null,
      "metadata": {
        "id": "q9-PmxXC571R"
      },
      "outputs": [],
      "source": [
        "# plotting confusion matrix for test set.\n",
        "plot_confusion_matrix(xgb_opti,X_test,y_test,cmap='Greys',display_labels=Class_cat,xticks_rotation='vertical')\n",
        "plt.grid(False)\n",
        "plt.title('Confusion Matrix-testset',fontsize=15)\n",
        "plt.show()"
      ]
    },
    {
      "cell_type": "code",
      "execution_count": null,
      "metadata": {
        "id": "Q0xak8pU8-73"
      },
      "outputs": [],
      "source": [
        "#printing the classifiaction report of train set.\n",
        "print(classification_report(y_train,y_train_pred))"
      ]
    },
    {
      "cell_type": "code",
      "execution_count": null,
      "metadata": {
        "id": "cBn1rqgb9itN"
      },
      "outputs": [],
      "source": [
        "#printing the classifiaction report of test set.\n",
        "print(classification_report(y_test,y_pred))"
      ]
    },
    {
      "cell_type": "code",
      "execution_count": null,
      "metadata": {
        "id": "kC4T-BvR9toP"
      },
      "outputs": [],
      "source": [
        "# Plot AUC ROC curve.\n",
        "pred_prob = xgb_opti.predict_proba(X_test)\n",
        "plot_Auc_roc(y_test,pred_prob)"
      ]
    },
    {
      "cell_type": "code",
      "execution_count": null,
      "metadata": {
        "id": "iryWLPXR96YL"
      },
      "outputs": [],
      "source": [
        "#plotting feature importances\n",
        "plot_feature_importance(xgb_opti)"
      ]
    },
    {
      "cell_type": "markdown",
      "metadata": {
        "id": "lIpSpFxIyfLH"
      },
      "source": [
        "### **Observations**\n",
        "\n",
        "***Before hyperparameter Tuning***\n",
        "* ***Train Accuarcy = 98%***\n",
        "* ***Test Accuarcy = 90%***\n",
        "\n",
        "***After hyperparameter Tuning***\n",
        "* ***Train Accuarcy = 1%***\n",
        "* ***Test Accuarcy = 92%***\n",
        "\n",
        "***we have improved the model performance by Hyperparamter tuning. Test accuracy is increased to 92%.But still the difference of accuracy score between train and test is  more than 5%.We can say model is very slightly overfitted***\n",
        "\n",
        "***From AUC-ROC curve its clear that model has almost correctly predicted the class 0 and class 3.***\n"
      ]
    },
    {
      "cell_type": "markdown",
      "metadata": {
        "id": "izj7S__QBbFs"
      },
      "source": [
        "#SVM"
      ]
    },
    {
      "cell_type": "markdown",
      "metadata": {
        "id": "lVHoVB44qwu9"
      },
      "source": [
        "### **with default parameters.**"
      ]
    },
    {
      "cell_type": "code",
      "execution_count": null,
      "metadata": {
        "id": "Fo0czIrl-sSW"
      },
      "outputs": [],
      "source": [
        "# Import all relevant libraries\n",
        "\n",
        "from sklearn.svm import SVC"
      ]
    },
    {
      "cell_type": "code",
      "execution_count": null,
      "metadata": {
        "id": "hpd7ytQzBdyg"
      },
      "outputs": [],
      "source": [
        "svc = SVC(random_state=101)      # creating an object of classifier\n",
        "svc.fit(X_train_scaled,y_train)    # fitting the model/training the model."
      ]
    },
    {
      "cell_type": "code",
      "execution_count": null,
      "metadata": {
        "id": "s8caex7aBm1O"
      },
      "outputs": [],
      "source": [
        "# predicting the y value of train set and test set\n",
        "y_train_pred=svc.predict(X_train_scaled)\n",
        "y_pred=svc.predict(X_test_scaled)\n"
      ]
    },
    {
      "cell_type": "code",
      "execution_count": null,
      "metadata": {
        "id": "TmB4_VRBB3-P"
      },
      "outputs": [],
      "source": [
        "# Accuracy score for train set\n",
        "accuracy_score(y_train,y_train_pred)"
      ]
    },
    {
      "cell_type": "code",
      "execution_count": null,
      "metadata": {
        "id": "bfK9in0RB_a6"
      },
      "outputs": [],
      "source": [
        "# Accuracy score for test set.\n",
        "accuracy_score(y_test,y_pred)"
      ]
    },
    {
      "cell_type": "code",
      "execution_count": null,
      "metadata": {
        "id": "TaOykLVqbvAT"
      },
      "outputs": [],
      "source": [
        "cf_matrix=confusion_matrix(y_test,y_pred)\n",
        "cf_matrix"
      ]
    },
    {
      "cell_type": "code",
      "execution_count": null,
      "metadata": {
        "id": "h-GGTJb-b-K1"
      },
      "outputs": [],
      "source": [
        "# plotting confusion matrix for test set.\n",
        "plot_confusion_matrix(svc,X_test_scaled,y_test,cmap='Greys',display_labels=Class_cat,xticks_rotation='vertical')\n",
        "plt.grid(False)\n",
        "plt.title('Confusion Matrix-testset',fontsize=15)\n",
        "plt.show()"
      ]
    },
    {
      "cell_type": "code",
      "source": [
        "#printing the classifiaction report of train set.\n",
        "print(classification_report(y_train,y_train_pred))"
      ],
      "metadata": {
        "id": "bTosN024ht_l"
      },
      "execution_count": null,
      "outputs": []
    },
    {
      "cell_type": "code",
      "source": [
        "#printing the classifiaction report of train set.\n",
        "print(classification_report(y_test,y_pred))"
      ],
      "metadata": {
        "id": "S5HV7g5qhuvP"
      },
      "execution_count": null,
      "outputs": []
    },
    {
      "cell_type": "markdown",
      "metadata": {
        "id": "gg4W-76YcOOr"
      },
      "source": [
        "### **Hyperparameter Tuning**"
      ]
    },
    {
      "cell_type": "code",
      "execution_count": null,
      "metadata": {
        "id": "Nk9rhKsyCEQs"
      },
      "outputs": [],
      "source": [
        "# parameter grid for GridSearchCv\n",
        "grid_values = {\n",
        "    'C':[0.01,0.1,1,10],\n",
        "    'kernel' : [\"linear\",\"poly\",\"rbf\",\"sigmoid\"],\n",
        "    'degree' : [1,3,5,7],\n",
        "    'gamma' : [0.01,1]\n",
        "}"
      ]
    },
    {
      "cell_type": "code",
      "execution_count": null,
      "metadata": {
        "id": "zj1EIB7VCXQD"
      },
      "outputs": [],
      "source": [
        "# creating an object for classifier\n",
        "svm  = SVC ()"
      ]
    },
    {
      "cell_type": "code",
      "execution_count": null,
      "metadata": {
        "id": "wRqB4K7LCaDZ"
      },
      "outputs": [],
      "source": [
        "# Hyperparameter tuning with the GrdiSearhCV with cv=5\n",
        "svm_cv = GridSearchCV(svm, grid_values, cv = 5,verbose=2)\n",
        "svm_cv.fit(X_train_scaled,y_train)     # fitting the data into the model"
      ]
    },
    {
      "cell_type": "code",
      "execution_count": null,
      "metadata": {
        "id": "XVL8gEY8CpTj"
      },
      "outputs": [],
      "source": [
        "# getting the best parameters\n",
        "svm_cv.best_params_"
      ]
    },
    {
      "cell_type": "code",
      "execution_count": null,
      "metadata": {
        "id": "_9Zzod1rDUEF"
      },
      "outputs": [],
      "source": [
        "# getting the best estimators\n",
        "svm_cv.best_estimator_"
      ]
    },
    {
      "cell_type": "code",
      "execution_count": null,
      "metadata": {
        "id": "1Sa1Ai0KDMY2"
      },
      "outputs": [],
      "source": [
        "# applying best parameters to the SVm model.\n",
        "svm_optimal=SVC(C=10, degree=1, gamma=0.01, kernel='linear',probability=True)\n",
        "svm_optimal.fit(X_train_scaled,y_train)   # fitting the data"
      ]
    },
    {
      "cell_type": "code",
      "execution_count": null,
      "metadata": {
        "id": "CcToxg15DX8K"
      },
      "outputs": [],
      "source": [
        "# predicting the y values of train and test set.\n",
        "y_train_pred=svm_optimal.predict(X_train_scaled)    \n",
        "y_pred=svm_optimal.predict(X_test_scaled)"
      ]
    },
    {
      "cell_type": "code",
      "execution_count": null,
      "metadata": {
        "id": "PaZYwUuu9vMr"
      },
      "outputs": [],
      "source": [
        "y_train_pred"
      ]
    },
    {
      "cell_type": "code",
      "execution_count": null,
      "metadata": {
        "id": "1joccWY6690U"
      },
      "outputs": [],
      "source": [
        "y_pred"
      ]
    },
    {
      "cell_type": "code",
      "execution_count": null,
      "metadata": {
        "id": "5cqRRqgzD1yf"
      },
      "outputs": [],
      "source": [
        "# checkig the accuracy score of train set.\n",
        "accuracy_score(y_train,y_train_pred)"
      ]
    },
    {
      "cell_type": "code",
      "execution_count": null,
      "metadata": {
        "id": "vtwomJ-mEEH7"
      },
      "outputs": [],
      "source": [
        "# checking the accuracy of test data\n",
        "accuracy_score(y_test,y_pred)"
      ]
    },
    {
      "cell_type": "code",
      "execution_count": null,
      "metadata": {
        "id": "xuJ4CmizEInP"
      },
      "outputs": [],
      "source": [
        "# Confusion matrix\n",
        "cf_matrix=confusion_matrix(y_test,y_pred)\n",
        "cf_matrix"
      ]
    },
    {
      "cell_type": "code",
      "execution_count": null,
      "metadata": {
        "id": "se7XGorbBrNx"
      },
      "outputs": [],
      "source": [
        "# plotting confusion matrix for test set.\n",
        "plot_confusion_matrix(svm_optimal,X_test_scaled,y_test,cmap='Greys',display_labels=Class_cat,xticks_rotation='vertical')\n",
        "plt.grid(False)\n",
        "plt.title('Confusion Matrix-testset',fontsize=15)\n",
        "plt.show()"
      ]
    },
    {
      "cell_type": "code",
      "execution_count": null,
      "metadata": {
        "id": "FXYswYcnSYYy"
      },
      "outputs": [],
      "source": [
        "#printing the classifiaction report of train set.\n",
        "print(classification_report(y_train,y_train_pred))"
      ]
    },
    {
      "cell_type": "code",
      "execution_count": null,
      "metadata": {
        "id": "me82FDCdSebh"
      },
      "outputs": [],
      "source": [
        "#printing the classifiaction report of train set.\n",
        "print(classification_report(y_test,y_pred))"
      ]
    },
    {
      "cell_type": "code",
      "execution_count": null,
      "metadata": {
        "id": "EvNx1YaAE3R0"
      },
      "outputs": [],
      "source": [
        "# Plot AUC ROC curve.\n",
        "pred_prob = svm_optimal.predict_proba(X_test_scaled)\n",
        "plot_Auc_roc(y_test,pred_prob)"
      ]
    },
    {
      "cell_type": "code",
      "execution_count": null,
      "metadata": {
        "id": "4UdAoNcvu_dK"
      },
      "outputs": [],
      "source": [
        "plt.figure(figsize=(12,8))\n",
        "pd.Series(abs(svm_optimal.coef_[0])+abs(svm_optimal.coef_[1])+abs(svm_optimal.coef_[2])+abs(svm_optimal.coef_[3]), index=X_train.columns).nlargest(12).plot(kind='barh')"
      ]
    },
    {
      "cell_type": "markdown",
      "metadata": {
        "id": "1KL3g__kPVc-"
      },
      "source": [
        "### **Observations**\n",
        "\n",
        "\n",
        "* ***Accuracy score on train set is 98.5% and Test score is 89%.***\n",
        "***Model seems to be overfitted as the differance between train and test accuracy score is almot 10%.***\n",
        "* ***After Hyperparameter tuning train accuracy remained almost same  98.3% and test accuracy score increased to 97%.*** \n",
        "*  ***SVM performed very well as compared to other alogorithms.***\n",
        "* ***In terms of feature importance RAM,Battery power,px_height and px_weight are the imporatant features.***\n",
        "* ***f1 score for individual classes is also very good. Area under curve for each class prediction is also almost 1.***"
      ]
    },
    {
      "cell_type": "markdown",
      "metadata": {
        "id": "5e585r1CKREZ"
      },
      "source": [
        "=====================================================================================================================================================================END==============================================================================================================="
      ]
    },
    {
      "cell_type": "markdown",
      "metadata": {
        "id": "RkR6dTwPKgFG"
      },
      "source": [
        "Cross Checking whether the data is good for SVM or not by creating 4 dfs of each class. and plotting the scatterplot of most important feature \"RAM\" and  \"Battery Power\"."
      ]
    },
    {
      "cell_type": "code",
      "execution_count": null,
      "metadata": {
        "id": "GluS9dUAt18K"
      },
      "outputs": [],
      "source": [
        "df0=mobile_data[mobile_data['price_range']==0]    # creating df of class 0\n",
        "df1=mobile_data[mobile_data['price_range']==1]    #creating df of class 1\n",
        "df2=mobile_data[mobile_data['price_range']==2]    #creating df of class 2\n",
        "df3=mobile_data[mobile_data['price_range']==3]     #creating df of class 3"
      ]
    },
    {
      "cell_type": "code",
      "execution_count": null,
      "metadata": {
        "id": "dgTHKOOpudE5"
      },
      "outputs": [],
      "source": [
        "plt.figure(figsize=(15,7))\n",
        "sns.scatterplot(x=df0['ram'],y=df0['battery_power'],color='green',marker='+',s=150)  #scatterplot of df0-class0\n",
        "sns.scatterplot(x=df1['ram'],y=df1['battery_power'],color='blue',marker='.',s=150)   #scatterplot of df1-class1\n"
      ]
    },
    {
      "cell_type": "code",
      "execution_count": null,
      "metadata": {
        "id": "rZdj8NFKCkv8"
      },
      "outputs": [],
      "source": [
        "svm_optimal.n_support_"
      ]
    },
    {
      "cell_type": "code",
      "execution_count": null,
      "metadata": {
        "id": "f03R6IhgysGe"
      },
      "outputs": [],
      "source": [
        "plt.figure(figsize=(15,7))\n",
        "sns.scatterplot(x=df0['ram'],y=df0['battery_power'],color='green',marker='+',s=150)     #scatterplot of df0-class0\n",
        "sns.scatterplot(x=df2['ram'],y=df2['battery_power'],color='blue',marker='.',s=150)      #scatterplot of df2-class2"
      ]
    },
    {
      "cell_type": "code",
      "execution_count": null,
      "metadata": {
        "id": "bG0LEzIYyyLj"
      },
      "outputs": [],
      "source": [
        "plt.figure(figsize=(15,7))\n",
        "sns.scatterplot(x=df3['ram'],y=df3['battery_power'],color='green',marker='+',s=150)      #scatterplot of df3-class3\n",
        "sns.scatterplot(x=df2['ram'],y=df2['battery_power'],color='blue',marker='.',s=150)       #scatterplot of df2-class2"
      ]
    },
    {
      "cell_type": "code",
      "execution_count": null,
      "metadata": {
        "id": "jRyeOWgFy3D1"
      },
      "outputs": [],
      "source": [
        "plt.figure(figsize=(15,7))\n",
        "sns.scatterplot(x=df3['ram'],y=df3['battery_power'],color='green',marker='+',s=150)\n",
        "sns.scatterplot(x=df2['ram'],y=df2['battery_power'],color='blue',marker='.',s=150)"
      ]
    },
    {
      "cell_type": "code",
      "execution_count": null,
      "metadata": {
        "id": "rRjmo3lCw5ty"
      },
      "outputs": [],
      "source": [
        "# CSV file loaction path    \n",
        "file_path_1 = '/content/drive/MyDrive/Capstone project (Mobile Price Range Predoction)/test.csv'\n"
      ]
    },
    {
      "cell_type": "code",
      "execution_count": null,
      "metadata": {
        "id": "5fEoF-JgoYJj"
      },
      "outputs": [],
      "source": [
        "# reading Test csv file.\n",
        "test_df=pd.read_csv(file_path_1)"
      ]
    },
    {
      "cell_type": "code",
      "execution_count": null,
      "metadata": {
        "id": "5UwzZINsogmt"
      },
      "outputs": [],
      "source": [
        "test_df.drop('id',inplace=True,axis=1)"
      ]
    },
    {
      "cell_type": "code",
      "execution_count": null,
      "metadata": {
        "id": "Vb5StEJRov6V"
      },
      "outputs": [],
      "source": [
        "test_df=test_df"
      ]
    },
    {
      "cell_type": "code",
      "execution_count": null,
      "metadata": {
        "id": "3HjWyIlK989M"
      },
      "outputs": [],
      "source": [
        "X_test"
      ]
    },
    {
      "cell_type": "code",
      "execution_count": null,
      "metadata": {
        "id": "y-HyxW_FojMk"
      },
      "outputs": [],
      "source": [
        "test_df=test_df[X_test.columns.tolist()]"
      ]
    },
    {
      "cell_type": "code",
      "execution_count": null,
      "metadata": {
        "id": "7L3FDhSU7ij9"
      },
      "outputs": [],
      "source": [
        "test_df"
      ]
    },
    {
      "cell_type": "code",
      "execution_count": null,
      "metadata": {
        "id": "7O-LJtcV-eIY"
      },
      "outputs": [],
      "source": [
        "svm_optimal"
      ]
    },
    {
      "cell_type": "code",
      "execution_count": null,
      "metadata": {
        "id": "BDGXj4FK8Nek"
      },
      "outputs": [],
      "source": [
        "X_test_data=scaler.transform(test_df)         #scaling test df as model is trained on scaled data"
      ]
    },
    {
      "cell_type": "code",
      "execution_count": null,
      "metadata": {
        "id": "Vf1JTxkE7OXK"
      },
      "outputs": [],
      "source": [
        "y_pred_test_data=svm_optimal.predict(X_test_data)   "
      ]
    },
    {
      "cell_type": "code",
      "execution_count": null,
      "metadata": {
        "id": "qvebhyWy8fEI"
      },
      "outputs": [],
      "source": [
        "y_pred_test_data"
      ]
    },
    {
      "cell_type": "code",
      "execution_count": null,
      "metadata": {
        "id": "B52d8Lof9Llh"
      },
      "outputs": [],
      "source": [
        "test_df['price_range']=y_pred_test_data"
      ]
    },
    {
      "cell_type": "code",
      "execution_count": null,
      "metadata": {
        "id": "AMR5uCcs-u_L"
      },
      "outputs": [],
      "source": [
        "test_df"
      ]
    },
    {
      "cell_type": "code",
      "execution_count": null,
      "metadata": {
        "id": "cNKfHnrH_GTp"
      },
      "outputs": [],
      "source": [
        "mobile_data"
      ]
    },
    {
      "cell_type": "code",
      "execution_count": null,
      "metadata": {
        "id": "VqEQ1ScZ_Leg"
      },
      "outputs": [],
      "source": [
        "mobile_data[mobile_data['ram']==3283]"
      ]
    },
    {
      "cell_type": "code",
      "execution_count": null,
      "metadata": {
        "id": "UEwdh9xA_xpb"
      },
      "outputs": [],
      "source": [
        "test_df[test_df['ram']==3893]"
      ]
    }
  ],
  "metadata": {
    "colab": {
      "collapsed_sections": [],
      "name": " Mobile Price Range Prediction.ipynb",
      "provenance": [],
      "include_colab_link": true
    },
    "kernelspec": {
      "display_name": "Python 3",
      "name": "python3"
    },
    "language_info": {
      "name": "python"
    }
  },
  "nbformat": 4,
  "nbformat_minor": 0
}